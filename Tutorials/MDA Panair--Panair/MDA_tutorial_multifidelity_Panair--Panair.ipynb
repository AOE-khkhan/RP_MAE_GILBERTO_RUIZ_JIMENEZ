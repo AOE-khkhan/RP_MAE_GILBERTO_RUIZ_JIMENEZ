{
 "cells": [
  {
   "cell_type": "markdown",
   "metadata": {},
   "source": [
    "# Aeroelastic Multidisciplinary Analysis (MDA) Tutorial: Multi-Fidelity Version\n",
    "# Panair--Panair\n",
    "In this tutorial, we will see how to set up and perform a static aeroelastic analysis combining two fidelities using the [aerostructures](https://github.com/mid2SUPAERO/aerostructures) package (use the g.ruiz branch) and [OpenMDAO](https://github.com/mid2SUPAERO/OpenMDAO1).\n",
    "\n",
    "The multifidelity of this version is introduced with __two different aerodynamic meshes__, while keeping the same fluid flow solver. This helps the user to identify easily the differences with the single fidelity version of the tutorial and makes it easier to transition to the Panair -- ADFlow version.\n",
    "\n",
    "## Required files\n",
    "Before actually running the Python code, we will see the files related to the the aerodynamic and structural analysis that are required to perform the MDA. These files should eb placed on the same folder as the main OpenMDAO script, which we will describe later.\n",
    "\n",
    "### Structure model files\n",
    "Two files are required for the structural model. The first one is 'nastran_static_template.inp'. This file looks mostly like a normal Nastran file but with some differences. In this file, instead of the classical Nastran FORCE cards, there are modified cards that include a dictionary key for each force component, for example:"
   ]
  },
  {
   "cell_type": "markdown",
   "metadata": {
    "collapsed": true
   },
   "source": [
    "`FORCE,201,33566,0,1.0,{Fx33566},{Fy33566},{Fz33566}`"
   ]
  },
  {
   "cell_type": "markdown",
   "metadata": {},
   "source": [
    "Another difference with respect to a normal Nastran file is that the GRID cards, which contain the node coordinates, are also modified to include a dictionary key for each component of the nodal coordinates, for example:"
   ]
  },
  {
   "cell_type": "markdown",
   "metadata": {},
   "source": [
    "`GRID,33566,,{x33566},{y33566},{z33566}`"
   ]
  },
  {
   "cell_type": "markdown",
   "metadata": {},
   "source": [
    "The dictionary keys are used to create input files for Nastran in an automated way. As the nodal forces vary during the MDA, the input force values are updated by substituting the dictionary keys in the template by the contents of the dictionary. The same operation is performed for the GRID cards. Even if in the case of an MDA the nodal coordinates remain constant, this feature is useful for shape optimization, in which the nodal coordinates will change with each optimization iteration. We will see this in more detail on the tutorial on aeroelastic optimization.\n",
    "\n",
    "The last difference with respect to an ordinary Nastran file is that, at the end of the file, there is a list of node IDs. The nodes in this list represent the nodes used for displacement interpolation. Typically, this list is a subset of the total nodes in the structural model, since not all nodes are required to perform the displacement interpolation. However, in the present example, this list contains all the nodes as it is a relatively small model. each node ID is precede by a '$' sign, so they appear as comments to Nastran. An example:"
   ]
  },
  {
   "cell_type": "markdown",
   "metadata": {},
   "source": [
    "`$List of nodes belonging to the outer skin\n",
    "$33566`"
   ]
  },
  {
   "cell_type": "markdown",
   "metadata": {},
   "source": [
    "The file 'nastran_input_geometry.inp' is a typical Nastran input file containing all the GRID points of the jig shape of the structural model (i.e., the shape of the wing structure when no forces are applied onto it). For example, for one GRID point, this looks like:"
   ]
  },
  {
   "cell_type": "markdown",
   "metadata": {},
   "source": [
    "`GRID,33566,,33.5157,0.0010402,2.554365`"
   ]
  },
  {
   "cell_type": "markdown",
   "metadata": {},
   "source": [
    "Here is the jig shape structural mesh for the example in this tutorial:\n",
    "<img src=\"structure_mesh.png\">"
   ]
  },
  {
   "cell_type": "markdown",
   "metadata": {
    "collapsed": true
   },
   "source": [
    "### Aerodynamics model file\n",
    "The aerodynamic mesh is written on the file 'aero_template.wgs'. The mesh is written in the [NASA](https://ntrs.nasa.gov/search.jsp?R=19850014069) Langley Wireframe Geometry Standard [(LaWGS)](http://www.pdas.com/lawgs.html). This file contains the geometry of the jig shape of the wing (i.e., the aerodynamic shape of the wing when no forces are applied onto it).\n",
    "\n",
    "Here is the aerodynamic surface mesh (jig shape) for the example in this tutorial:\n",
    "<img src=\"aero_mesh.png\">"
   ]
  },
  {
   "cell_type": "markdown",
   "metadata": {},
   "source": [
    "## OpenMDAO main file\n",
    "### Preliminary data\n",
    "Next we describe step by step the main OpenMDAO file 'nastran_panair_mda_cruise.py' to assemble all the components and perform the MDA itself. First, we import all the necessary modules from OpenMDAO and 'aerostructures':"
   ]
  },
  {
   "cell_type": "code",
   "execution_count": 1,
   "metadata": {},
   "outputs": [],
   "source": [
    "from __future__ import print_function\n",
    "\n",
    "import numpy as np\n",
    "\n",
    "from openmdao.api import Problem, Group, IndepVarComp, ScipyGMRES, SqliteRecorder, view_model\n",
    "\n",
    "from aerostructures import NastranStatic, DisplacementTransfer, Panair, LoadTransfer, Interpolation, StaticStructureProblemDimensions, StaticStructureProblemParams, AeroProblemDimensions, AeroProblemParams, NLGaussSeidel, Filter"
   ]
  },
  {
   "cell_type": "markdown",
   "metadata": {
    "collapsed": true
   },
   "source": [
    "Next, we start the main of the program and we set some values for the displacement interpolation method and the symmetry of the problem:"
   ]
  },
  {
   "cell_type": "code",
   "execution_count": 2,
   "metadata": {},
   "outputs": [],
   "source": [
    "if __name__ == \"__main__\":\n",
    "\n",
    "    #Interpolation function type and setup\n",
    "    function_type = 'thin_plate'\n",
    "    bias = (1.,100.,1.)\n",
    "\n",
    "    #Symmetry plane index\n",
    "    sym_plane_index = 2\n",
    "\n",
    "    #case_name = 'alpha_c'\n",
    "    case_name = 'alpha_low'\n",
    "    case_name_h = 'alpha_high'"
   ]
  },
  {
   "cell_type": "markdown",
   "metadata": {},
   "source": [
    "Here we have set the type of radial basis function to use for the displacement interpolation method through `function_type` as well as the modification of the Euclidean norm through the use of the `bias` parameter, as described by [Rendall and Allen](https://onlinelibrary.wiley.com/doi/abs/10.1002/nme.2219). By setting `sym_plane_index` to 2 we indicate the y is the normal axis to the symmetry plane (x = 1, y = 2, z = 3). The variables `case_name` & `case_name_h` are just a name for the low & high fidelity case.\n",
    "\n",
    "Next we set the input parameters for the flow conditions, the reference quantities and the material properties:"
   ]
  },
  {
   "cell_type": "code",
   "execution_count": 3,
   "metadata": {},
   "outputs": [],
   "source": [
    "    #Problem parameters\n",
    "    Sw = 383.689555\n",
    "    V = 252.16168\n",
    "    rho_a = 0.38058496\n",
    "    Mach = 0.85\n",
    "    alpha = 1.340\n",
    "    b = 58.7629\n",
    "    c = 7.00532\n",
    "    E = 6.89e10\n",
    "    nu = 0.31\n",
    "    rho_s = 2795.67\n",
    "    n = 1.\n",
    "    #Aerodynamic template files for both fidelities\n",
    "    #Hi-Fi\n",
    "    aero_template_l = 'aero_template_l.wgs'\n",
    "    #Lo-Fi\n",
    "    aero_template_h = 'aero_template_h.wgs'\n",
    "    # Multi-fidelity options 'low', for low-fidelity; 'high', for high-fidelity; 'multi', for multi-fidelity\n",
    "    fidelity = 'multi'\n",
    "    # Iterations for the low-fidelity part in multi-fidelity mode\n",
    "    it_l = 15"
   ]
  },
  {
   "cell_type": "markdown",
   "metadata": {},
   "source": [
    "Then we create an instance of `StaticStructureProblemDimensions` to get the properties of the structural model: the number of nodes for the displacement interpolation `ns` and their list of IDs `node_id`, the total number of nodes `ns_all` and their IDs `node_id_all`, and the number of stress values extracted from the results `n_stress`. The variables `tn`, `mn`, and `sn` are the number of thicknesses, point masses, and sections of the model. In this case they are all set to 0 as these values are already set in the nastran template file and they will not be modified by OpenMDAO."
   ]
  },
  {
   "cell_type": "code",
   "execution_count": 4,
   "metadata": {},
   "outputs": [],
   "source": [
    "    structure_problem_dimensions = StaticStructureProblemDimensions()\n",
    "    \n",
    "    ns = structure_problem_dimensions.ns\n",
    "    ns_all = structure_problem_dimensions.ns_all\n",
    "    node_id = structure_problem_dimensions.node_id\n",
    "    node_id_all = structure_problem_dimensions.node_id_all\n",
    "    n_stress = structure_problem_dimensions.n_stress\n",
    "    u = np.zeros((ns, 3))\n",
    "    ul = np.zeros((ns, 3)) #Auxiliary variable to transfer the displacement field between fidelities\n",
    "    tn = 0\n",
    "    mn = 0\n",
    "    sn = 0"
   ]
  },
  {
   "cell_type": "markdown",
   "metadata": {},
   "source": [
    "Next, we create two instances of 'AeroProblemDimensions' to get information on the size (`na`) and topology (`network_info`) of the aerodynamic mesh for both the high and low fidelity cases:"
   ]
  },
  {
   "cell_type": "code",
   "execution_count": 5,
   "metadata": {},
   "outputs": [],
   "source": [
    "    #Low fidelity instance -- aero_template_l.wgs\n",
    "    aero_problem_dimensions = AeroProblemDimensions(aero_template_l)\n",
    "    na = aero_problem_dimensions.na\n",
    "    network_info = aero_problem_dimensions.network_info\n",
    "    \n",
    "    #High fidelity instance -- aero_template_h.wgs\n",
    "    aero_problem_dimensions_h = AeroProblemDimensions(aero_template_h)\n",
    "    na_h = aero_problem_dimensions_h.na\n",
    "    network_info_h = aero_problem_dimensions_h.network_info"
   ]
  },
  {
   "cell_type": "markdown",
   "metadata": {},
   "source": [
    "Now we create an instance of `StaticStructureProblemParams` to get the coordinates of the nodes used for displacement interpolation (`node_coord`) as well as the coordinates of all the nodes in the model (`node_coord_all`). Also, we get the coordinates of all the aerodynamic grid points `apoints_coord` for both fidelity levels:"
   ]
  },
  {
   "cell_type": "code",
   "execution_count": 6,
   "metadata": {},
   "outputs": [],
   "source": [
    "    structure_problem_params = StaticStructureProblemParams(node_id, node_id_all)\n",
    "    #Low fidelity instance -- aero_template_l.wgs \n",
    "    aero_problem_params = AeroProblemParams(aero_template_l)\n",
    "    \n",
    "    #High fidelity instance -- aero_template_h.wgs\n",
    "    aero_problem_params_h = AeroProblemParams(aero_template_h)\n",
    "\n",
    "    node_coord = structure_problem_params.node_coord\n",
    "    node_coord_all = structure_problem_params.node_coord_all\n",
    "\n",
    "    apoints_coord = aero_problem_params.apoints_coord\n",
    "    apoints_coord_h = aero_problem_params_h.apoints_coord"
   ]
  },
  {
   "cell_type": "markdown",
   "metadata": {},
   "source": [
    "### OpenMDAO model\n",
    "Here we will create the OpenMDAO model itself, assembling all the components and creating the necessary groups. For more details on the use of OpenMDAO and to find introductory tutorials, refer to [OpenMDAO Tutorials](https://openmdao.readthedocs.io/en/1.7.3/usr-guide/tutorials.html).\n",
    "\n",
    "First we define the top-level problem and we add to it all the independent variables of the problem (i.e., all the parameters):"
   ]
  },
  {
   "cell_type": "code",
   "execution_count": 7,
   "metadata": {},
   "outputs": [
    {
     "data": {
      "text/plain": [
       "<openmdao.components.indep_var_comp.IndepVarComp at 0x1e2a049b438>"
      ]
     },
     "execution_count": 7,
     "metadata": {},
     "output_type": "execute_result"
    }
   ],
   "source": [
    "    top = Problem()\n",
    "    root = top.root = Group()\n",
    "\n",
    "    #Add independent variables\n",
    "    root.add('wing_area', IndepVarComp('Sw', Sw))\n",
    "    root.add('airspeed', IndepVarComp('V', V))\n",
    "    root.add('air_density', IndepVarComp('rho_a', rho_a))\n",
    "    root.add('Mach_number', IndepVarComp('Mach', Mach))\n",
    "    root.add('angle_of_attack', IndepVarComp('alpha', alpha))\n",
    "    root.add('wing_span', IndepVarComp('b', b))\n",
    "    root.add('wing_chord', IndepVarComp('c', c))\n",
    "    root.add('s_coord', IndepVarComp('node_coord', node_coord))\n",
    "    root.add('s_coord_all', IndepVarComp('node_coord_all', node_coord_all))\n",
    "    root.add('a_coord', IndepVarComp('apoints_coord', apoints_coord))\n",
    "    root.add('a_coord_h', IndepVarComp('apoints_coord', apoints_coord_h))\n",
    "    root.add('load_factor', IndepVarComp('n', n))\n",
    "    \n",
    "    "
   ]
  },
  {
   "cell_type": "markdown",
   "metadata": {},
   "source": [
    "Next, we create two mda groups, (`mda_l`) and (`mda_h`) that will contain all the disciplines of the aeroelastic MDA. The `DisplacementTransfer` component provides the displacements of the aerodynamic grid given the structural displacements, `aerodynamics` computes the aerodynamic forces from the current grid displacement and the airflow parameters. Then these forces are transferred to the aerodynamic mesh via the `load_transfer` and the `structures component` computes the displacements from the current aerodynamic forces. In the case of the high fidelity level, a `mult_filter` component is added to work as a switch from the low fidelity instance to the high fidelity MDA:"
   ]
  },
  {
   "cell_type": "code",
   "execution_count": 8,
   "metadata": {},
   "outputs": [
    {
     "data": {
      "text/plain": [
       "<aerostructures.structures_static.nastran_static.NastranStatic at 0x1e2a04baf28>"
      ]
     },
     "execution_count": 8,
     "metadata": {},
     "output_type": "execute_result"
    }
   ],
   "source": [
    "    #Lo-Fi Group\n",
    "    mda_l = Group()\n",
    "\n",
    "    #Add disciplines to the low fidelity group CHECK INPUTS\n",
    "    mda_l.add('displacement_transfer', DisplacementTransfer(na, ns)) \n",
    "    mda_l.add('aerodynamics', Panair(na, network_info, case_name, aero_template_l, sym_plane_index=sym_plane_index)) \n",
    "    mda_l.add('load_transfer', LoadTransfer(na, ns))\n",
    "    mda_l.add('structures', NastranStatic(node_id, node_id_all, n_stress, tn, mn, sn, case_name))\n",
    "    \n",
    "    \n",
    "    #Hi-Fi Group\n",
    "    mda_h = Group()\n",
    "    \n",
    "    #Add disciplines to the high-fidelity group CHECK INPUTS\n",
    "    mda_h.add('mult_filter', Filter(ns, fidelity))\n",
    "    mda_h.add('displacement_transfer_h', DisplacementTransfer(na_h, ns))\n",
    "    mda_h.add('aerodynamics_h', Panair(na_h, network_info_h, case_name_h, aero_template_h, sym_plane_index=sym_plane_index))    \n",
    "    mda_h.add('load_transfer_h', LoadTransfer(na_h, ns))\n",
    "    mda_h.add('structures_h', NastranStatic(node_id, node_id_all, n_stress, tn, mn, sn, case_name_h))\n",
    "    \n",
    "    "
   ]
  },
  {
   "cell_type": "markdown",
   "metadata": {},
   "source": [
    "Then we add an `Interpolation` component. This component gives, provided the structural and aerodynamic point coordinates, the interpolation matrix `H` as defined by [Rendall and Allen](https://onlinelibrary.wiley.com/doi/abs/10.1002/nme.2219), depending on the function type and the definition of the norm to be used. Since the size of the problem is different for both fidelity levels, we need to define one interpolation componen for each mda group."
   ]
  },
  {
   "cell_type": "code",
   "execution_count": 9,
   "metadata": {},
   "outputs": [
    {
     "data": {
      "text/plain": [
       "<aerostructures.data_transfer.interpolation.Interpolation at 0x1e2a046f278>"
      ]
     },
     "execution_count": 9,
     "metadata": {},
     "output_type": "execute_result"
    }
   ],
   "source": [
    "    mda_l.add('inter', Interpolation(na, ns, function = function_type, bias = bias))\n",
    "    mda_h.add('inter_h', Interpolation(na_h, ns, function = function_type, bias = bias))"
   ]
  },
  {
   "cell_type": "markdown",
   "metadata": {},
   "source": [
    "Then we set the type of nonlinear solver for the MDA loop, in this case we use nonlinear Gauss--Seidel. As the convergence criterion, we set the relative error on the norm of the unknowns vector to be lower than `1.e-2`. We also use the [Aitken](https://en.wikipedia.org/wiki/Aitken%27s_delta-squared_process) convergence acceleration method with some recommended settings. Finally we add the `mda_group` to the top-level problem. This parameters allow the program to establish a condition for a fidelity switch (iterations, tolerances, etc.)"
   ]
  },
  {
   "cell_type": "code",
   "execution_count": 10,
   "metadata": {},
   "outputs": [],
   "source": [
    "    #Define solver type and tolerance for MDA Lo-Fi\n",
    "    mda_l.nl_solver = NLGaussSeidel()\n",
    "    #The solver execution limit is used to control fidelity levels\n",
    "    if fidelity == 'high':\n",
    "        mda_l.nl_solver.options['maxiter'] = 0 #No Lo-Fi iterations\n",
    "    elif fidelity == 'multi':\n",
    "        mda_l.nl_solver.options['maxiter'] = it_l #Adds the limit for the execution of the MDA Solver\n",
    "          \n",
    "    mda_l.nl_solver.options['rutol'] = 1.e-2 \n",
    "    mda_l.nl_solver.options['use_aitken'] = True\n",
    "    mda_l.nl_solver.options['aitken_alpha_min'] = 0.1\n",
    "    mda_l.nl_solver.options['aitken_alpha_max'] = 1.5\n",
    "\n",
    "    mda_l.ln_solver = ScipyGMRES()\n",
    "\n",
    "    #Define solver type and tolerance for MDA Hi-Fi\n",
    "    mda_h.nl_solver = NLGaussSeidel()\n",
    "    #The solver execution limit is used to control fidelity levels\n",
    "    if fidelity == 'low':\n",
    "        mda_h.nl_solver.options['maxiter'] = 0\n",
    "        \n",
    "    mda_h.nl_solver.options['rutol'] = 1.e-2\n",
    "    mda_h.nl_solver.options['use_aitken'] = True\n",
    "    mda_h.nl_solver.options['aitken_alpha_min'] = 0.1\n",
    "    mda_h.nl_solver.options['aitken_alpha_max'] = 1.5\n",
    "\n",
    "    mda_h.ln_solver = ScipyGMRES()"
   ]
  },
  {
   "cell_type": "markdown",
   "metadata": {},
   "source": [
    "Both groups are added to the root problem with its variables promoted. However, a series of parameters and inputs variables need to be connected explicitly to avoid having duplicated data (i.e. two different aerodynamic load vectors named the same way). These connections happen at the mda level and at the root level."
   ]
  },
  {
   "cell_type": "code",
   "execution_count": 11,
   "metadata": {},
   "outputs": [],
   "source": [
    "    \n",
    "    \n",
    "    root.add('mda_group_l', mda_l, promotes=['*'])\n",
    "    \n",
    "    #Explicit connection Lo-Fi\n",
    "    root.mda_group_l.connect('displacement_transfer.delta','aerodynamics.delta')\n",
    "    root.mda_group_l.connect('inter.H','displacement_transfer.H')\n",
    "    root.mda_group_l.connect('structures.u','displacement_transfer.u')\n",
    "    root.mda_group_l.connect('aerodynamics.f_a','load_transfer.f_a')\n",
    "    root.mda_group_l.connect('load_transfer.f_node','structures.f_node')\n",
    "    root.mda_group_l.connect('inter.H','load_transfer.H')\n",
    "    root.connect('a_coord.apoints_coord','inter.apoints_coord')\n",
    "    root.connect('a_coord.apoints_coord', 'aerodynamics.apoints_coord')\n",
    "    #Connect Indep Variables\n",
    "    root.connect('wing_area.Sw', 'aerodynamics.Sw')\n",
    "    root.connect('airspeed.V', 'aerodynamics.V')\n",
    "    root.connect('air_density.rho_a', 'aerodynamics.rho_a')\n",
    "    root.connect('Mach_number.Mach', 'aerodynamics.Mach')\n",
    "    root.connect('angle_of_attack.alpha', 'aerodynamics.alpha')\n",
    "    root.connect('wing_span.b', 'aerodynamics.b')\n",
    "    root.connect('wing_chord.c', 'aerodynamics.c')\n",
    "    root.connect('load_factor.n','structures.n')\n",
    "    root.connect('s_coord.node_coord', 'inter.node_coord')\n",
    "    root.connect('s_coord_all.node_coord_all', 'structures.node_coord_all')\n",
    "      \n",
    "    root.add('mda_group_h', mda_h, promotes=['*'])\n",
    "    \n",
    "    #Explicit connection Hi-Fi\n",
    "    root.mda_group_h.connect('displacement_transfer_h.delta','aerodynamics_h.delta')\n",
    "    root.mda_group_h.connect('inter_h.H','displacement_transfer_h.H')\n",
    "    root.mda_group_h.connect('mult_filter.us','displacement_transfer_h.u')\n",
    "    root.mda_group_h.connect('aerodynamics_h.f_a','load_transfer_h.f_a')\n",
    "    root.mda_group_h.connect('load_transfer_h.f_node','structures_h.f_node')\n",
    "    root.mda_group_h.connect('inter_h.H','load_transfer_h.H')\n",
    "    root.mda_group_h.connect('structures_h.u','mult_filter.u')\n",
    "    root.connect('a_coord_h.apoints_coord','inter_h.apoints_coord')\n",
    "    root.connect('a_coord_h.apoints_coord', 'aerodynamics_h.apoints_coord')\n",
    "    #Connect Indep Variables\n",
    "    root.connect('wing_area.Sw', 'aerodynamics_h.Sw')\n",
    "    root.connect('airspeed.V', 'aerodynamics_h.V')\n",
    "    root.connect('air_density.rho_a', 'aerodynamics_h.rho_a')\n",
    "    root.connect('Mach_number.Mach', 'aerodynamics_h.Mach')\n",
    "    root.connect('angle_of_attack.alpha', 'aerodynamics_h.alpha')\n",
    "    root.connect('wing_span.b', 'aerodynamics_h.b')\n",
    "    root.connect('wing_chord.c', 'aerodynamics_h.c')\n",
    "    root.connect('load_factor.n','structures_h.n')\n",
    "    root.connect('s_coord.node_coord', 'inter_h.node_coord')\n",
    "    root.connect('s_coord_all.node_coord_all', 'structures_h.node_coord_all')\n",
    "    \n",
    "    #Multifidelity explicit connections\n",
    "    \n",
    "    root.connect('structures.u', 'mult_filter.ul')"
   ]
  },
  {
   "cell_type": "markdown",
   "metadata": {},
   "source": [
    "As we will do some post-processing on the multidisciplinary analysis on the MDA, we add a recorder to save the multidisciplinary variable values for all the iterations. By default, all the variables are stored. Since the whole displacement and force vectors are stored for each iteration, the recorder file could be really large for models with many nodes or aerodynamic grid points. To avoid that, we could specify to store only certain variables using `recorder.options['includes'] =` and specifying a list of variables names. For example, we could choose to store the displacements of certain nodes."
   ]
  },
  {
   "cell_type": "code",
   "execution_count": 12,
   "metadata": {},
   "outputs": [],
   "source": [
    "    #Recorder Lo-Fi\n",
    "    recorder_l = SqliteRecorder('mda_l.sqlite3')\n",
    "    recorder_l.options['record_metadata'] = False\n",
    "    #Recorder Hi-Fi\n",
    "    recorder_h = SqliteRecorder('mda_h.sqlite3')\n",
    "    recorder_h.options['record_metadata'] = False\n",
    "    # recorder.options['includes'] =\n",
    "    top.root.mda_group_l.nl_solver.add_recorder(recorder_l)\n",
    "    top.root.mda_group_h.nl_solver.add_recorder(recorder_h)"
   ]
  },
  {
   "cell_type": "markdown",
   "metadata": {},
   "source": [
    "Finally, we set up the OpenMDAO problem and we run it:"
   ]
  },
  {
   "cell_type": "code",
   "execution_count": 13,
   "metadata": {},
   "outputs": [
    {
     "name": "stderr",
     "output_type": "stream",
     "text": [
      "d:\\programas\\aerostructures\\aerostructures\\data_transfer\\rbf_poly_bias.py:101: RuntimeWarning: divide by zero encountered in log\n",
      "  result = r**2 * log(r)\n",
      "d:\\programas\\aerostructures\\aerostructures\\data_transfer\\rbf_poly_bias.py:101: RuntimeWarning: invalid value encountered in multiply\n",
      "  result = r**2 * log(r)\n"
     ]
    },
    {
     "name": "stdout",
     "output_type": "stream",
     "text": [
      "##############################################\n",
      "Setup: Checking root problem for potential issues...\n",
      "\n",
      "The following parameters have no associated unknowns:\n",
      "structures.E\n",
      "structures.Ix\n",
      "structures.Iy\n",
      "structures.a\n",
      "structures.m\n",
      "structures.nu\n",
      "structures.rho_s\n",
      "structures.s\n",
      "structures.t\n",
      "structures_h.E\n",
      "structures_h.Ix\n",
      "structures_h.Iy\n",
      "structures_h.a\n",
      "structures_h.m\n",
      "structures_h.nu\n",
      "structures_h.rho_s\n",
      "structures_h.s\n",
      "structures_h.t\n",
      "Group 'mda_group_l' has the following cycles: [['displacement_transfer', 'aerodynamics', 'load_transfer', 'structures']]\n",
      "Group 'mda_group_h' has the following cycles: [['displacement_transfer_h', 'aerodynamics_h', 'load_transfer_h', 'structures_h', 'mult_filter']]\n",
      "\n",
      "The following params are connected to unknowns that are updated out of order, so their initial values may contain uninitialized unknown values: ['mda_group_h.displacement_transfer_h.u', 'mda_group_l.displacement_transfer.u']\n",
      "\n",
      "Setup: Check of root problem complete.\n",
      "##############################################\n",
      "\n",
      "   [root.mda_group_l] NL: NLN_GS   15 | FAILED to converge after 15 iterations\n"
     ]
    }
   ],
   "source": [
    "    #Define solver type\n",
    "    root.ln_solver = ScipyGMRES()\n",
    "\n",
    "    top.setup()\n",
    "    view_model(top)\n",
    "    top.run()"
   ]
  },
  {
   "cell_type": "markdown",
   "metadata": {},
   "source": [
    "## Post-processing\n",
    "After running the MDA we can post-process the data stored in the recorder file and the output files of the structural and aerodynamic solvers for the last iteration. For that, we first run the script `MDA_plot.py`:"
   ]
  },
  {
   "cell_type": "code",
   "execution_count": null,
   "metadata": {},
   "outputs": [],
   "source": [
    "%run MDA_plot.py"
   ]
  },
  {
   "cell_type": "markdown",
   "metadata": {},
   "source": [
    "This generates two plots: One shows the the norm of the unknowns vector as a function of the iterations (which is used as the convergence criterion for the MDA):\n",
    "<img src=\"plot_unknowns_norm.svg\">\n",
    "The other one shows the vertical displacement with the highest absolute value for each iteration:\n",
    "<img src=\"plot_wingtip_disp.svg\">"
   ]
  },
  {
   "cell_type": "markdown",
   "metadata": {},
   "source": [
    "Before post-processing the pressure distribution of the last iteration, we need to convert the last aerodynamic shape (in `.wgs`) format to the GMSH format (`.msh`). For that, we use the script `wgs_to_gmsh.py`, which will ask for the name of the corresponding `.wgs` file, in that case `./alpha_c/aero_current`:"
   ]
  },
  {
   "cell_type": "code",
   "execution_count": null,
   "metadata": {},
   "outputs": [],
   "source": [
    "%run wgs_to_gmsh.py\n"
   ]
  },
  {
   "cell_type": "markdown",
   "metadata": {},
   "source": [
    "This will generate the GMSH file `aero_current.msh`, which is required by the script `panair_post.py`, which will ask for the GMSH file, in that case `./alpha_c/aero_current`:"
   ]
  },
  {
   "cell_type": "code",
   "execution_count": null,
   "metadata": {
    "scrolled": false
   },
   "outputs": [],
   "source": [
    "%run ./alpha_low/panair_post.py\n"
   ]
  },
  {
   "cell_type": "markdown",
   "metadata": {},
   "source": [
    "This will generate the GMSH file`aero_current_post.msh`, which contains the pressure distribution in addition to the aerodynamic grid:\n",
    "<img src=\"cp_distribution.png\">"
   ]
  }
 ],
 "metadata": {
  "anaconda-cloud": {},
  "kernelspec": {
   "display_name": "Python 3",
   "language": "python",
   "name": "python3"
  },
  "language_info": {
   "codemirror_mode": {
    "name": "ipython",
    "version": 3
   },
   "file_extension": ".py",
   "mimetype": "text/x-python",
   "name": "python",
   "nbconvert_exporter": "python",
   "pygments_lexer": "ipython3",
   "version": "3.7.1"
  }
 },
 "nbformat": 4,
 "nbformat_minor": 2
}
