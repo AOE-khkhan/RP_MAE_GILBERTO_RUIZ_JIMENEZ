{
 "cells": [
  {
   "cell_type": "markdown",
   "metadata": {},
   "source": [
    "# Aeroelastic Multidisciplinary Analysis and Optimization (MDAO) Tutorial\n",
    "# Multifidelity Version: Panair -- Panair\n",
    "In this tutorial, we will see how to set up and perform a static aeroelastic analysis and optimization using the [aerostructures](https://github.com/mid2SUPAERO/aerostructures) package and [OpenMDAO](https://github.com/mid2SUPAERO/OpenMDAO1).\n",
    "\n",
    "Since the required files and the structure of the OpenMDAO problem formulation are based on the MDA tutorial, we will focus on the __differences__. Apart from the induced drag provided by Panair, the estimation of the friction drag and the wave drag are also included in the computation of the total drag coefficient (CD). The methods used for these estimations are the ones used in the [OpenAeroStruct](https://github.com/mdolab/OpenAeroStruct) package.\n",
    "\n",
    "## Required files\n",
    "The required files describing the geometry of the baseline structural and aerodynamic meshes are similar to the ones of the MDA tutorial. However, the template file for the structural solver includes some more dictionary keys for the structural properties that are set as independent variables. In addition, a series of text files containing the baseline definition of the airfoils are required. In comparison with the previous example, where the geometry was fixed, in this case the geometry will change according to the design variables, that is why a file containing the baseline geometry of the airfoil is required.\n",
    "\n",
    "### Template file for structural solver\n",
    "No we describe the differences of the structural template file ([nastran_static_template.inp](files/nastran_static_template.inp)). For the element property cards, there will now be a dictionary key for each property value. For example, for the shell properties:\n",
    "\n",
    "`PSHELL,1,1,{t1},1,,1`\n",
    "\n",
    "In this case, when the optimizer changes the shell thickness, the dictionary key will be substituted by the particular value at each iteration.\n",
    "\n",
    "\n",
    "## OpenMDAO main file\n",
    "The complete main OpenMDAO file for this example can be found at [bwb_mdao_cruise.py](files/bwb_mdao_cruise.py).\n",
    "\n",
    "### Preliminary data\n",
    "We import the necessary modules:"
   ]
  },
  {
   "cell_type": "code",
   "execution_count": null,
   "metadata": {},
   "outputs": [],
   "source": [
    "from __future__ import print_function\n",
    "\n",
    "import numpy as np\n",
    "\n",
    "from openmdao.api import Problem, Group, IndepVarComp, ExecComp, ScipyGMRES, SqliteRecorder, view_model, ScipyOptimizer\n",
    "\n",
    "from aerostructures import NastranStatic, DisplacementTransfer, Panair, LoadTransfer, Interpolation, PanairMesher, StructureMesher, StaticStructureProblemDimensions, AeroProblemDimensions, StaticStructureProblemParams, AeroProblemParams, NLGaussSeidel, WingSegmentProps, WaveDrag, Filter, XLeadingEdge\n",
    "\n",
    "import time"
   ]
  },
  {
   "cell_type": "markdown",
   "metadata": {},
   "source": [
    "In this case, the RBF interpolation is also used to update the structural mesh coordinates according to the current geometry. For that, we set the norm bias for the structural mesh morphing:"
   ]
  },
  {
   "cell_type": "code",
   "execution_count": null,
   "metadata": {},
   "outputs": [],
   "source": [
    "if __name__ == \"__main__\":\n",
    "\n",
    "    #Interpolation function type and setup\n",
    "    function_type = 'thin_plate'\n",
    "    bias_morph = (1.,1.,1.)\n",
    "    bias_inter = (1.,1.,1.)\n",
    "    \n",
    "    #Symmetry plane index\n",
    "    sym_plane_index = 2"
   ]
  },
  {
   "cell_type": "markdown",
   "metadata": {},
   "source": [
    "Now we define the number of wing sections that are used to define the wing external geometry (`n_sec`). We also specify the baseline airfoil file for each one of the sections:"
   ]
  },
  {
   "cell_type": "code",
   "execution_count": null,
   "metadata": {},
   "outputs": [],
   "source": [
    "    #Number of wing sections\n",
    "    #Number of wing sections\n",
    "    n_sec = 5\n",
    "\n",
    "    #Airfoil files list\n",
    "    ref_airfoil_files = []\n",
    "    for i in range(n_sec):\n",
    "        ref_airfoil_files.append('airfoil_'+str(i+1)+'.txt')\n",
    "    #Cases\n",
    "    case_name = 'alpha_low'\n",
    "    case_name_h = 'alpha_high'"
   ]
  },
  {
   "cell_type": "markdown",
   "metadata": {},
   "source": [
    "Next we define the fixed parameters of the problem (the ones which are not set as design variables):"
   ]
  },
  {
   "cell_type": "code",
   "execution_count": null,
   "metadata": {},
   "outputs": [],
   "source": [
    "    #Problem parameters\n",
    "    #Speed of sound\n",
    "    a = 295.1\n",
    "\n",
    "    #Wing area of the baseline design (for normalization purposes only)\n",
    "    S_ref = 313.18\n",
    "    Mach = 0.78\n",
    "    V = Mach*a\n",
    "    rho_a = 0.294\n",
    "    # h = 10500.\n",
    "    alpha_0 = 2.\n",
    "    b_0 = 41.15\n",
    "    b_baseline = 41.15\n",
    "    c = 7.61\n",
    "    E = 7.17e10\n",
    "    nu = 0.33\n",
    "    rho_s = 2810.\n",
    "    #Reference aircraft weight (mass units)\n",
    "    W_ref = 80200.\n",
    "    #Airframe weight (complete aircraft including payload and reserve fuel, excluding wing structure and fuel burn, mass units, from Kenway et al., 2014)\n",
    "    W_airframe = 43200.\n",
    "    #Yield stress (can also be used as ultimate stress if FS = 1.5)\n",
    "    sigma_y = 572.e6\n",
    "    #Factor of safety\n",
    "    FS = 1.5\n",
    "    #Cruise load factor\n",
    "    n = 1.\n",
    "    #Equivalent friction coefficient\n",
    "    Cfe = 0.003\n",
    "    #Technology factor for critical Mach number\n",
    "    k = 0.9\n",
    "    #Thrust-specific fuel consumption [kg/sN]\n",
    "    SFC = 1.5013e-5\n",
    "    #Design range [m]\n",
    "    R = 5093000.\n",
    "    #Minimum cabin height [m]\n",
    "    h_min = 4.\n",
    "    #Minimum cabin area [m2]\n",
    "    area_min = 120.\n",
    "    \n",
    "    #Aerodynamic template files for both fidelities\n",
    "    #Hi-Fi\n",
    "    aero_template_l = 'aero_template_l.wgs'\n",
    "    #Lo-Fi\n",
    "    aero_template_h = 'aero_template_h.wgs'\n",
    "    # Multi-fidelity options 'low', for low-fidelity; 'high', for high-fidelity; 'multi', for multi-fidelity\n",
    "    fidelity = input('Please enter the fidelity level: low, high or multi: ')"
   ]
  },
  {
   "cell_type": "markdown",
   "metadata": {},
   "source": [
    "Here we specify the sectional properties that are constant (camber and zero dihedral), as well as indicating the initial values of the spanwise position, the chord and relative thickness:"
   ]
  },
  {
   "cell_type": "code",
   "execution_count": null,
   "metadata": {},
   "outputs": [],
   "source": [
    "    #Sectional properties (that are not design variables)\n",
    "    y_le_baseline = np.array([0., 3.68, 6.2652, 9.03685, 20.57685])\n",
    "    z_le = np.array([0., 0., 0., 0., 0.,])\n",
    "    chords_0 = np.array([20., 16.91, 11.5, 4.3, 0.91])\n",
    "    tc_0 = np.array([0.18, 0.19, 0.2, 0.14, 0.1])\n",
    "    camc = np.array([0.02, 0.01, 0., 0.015, 0.011])\n"
   ]
  },
  {
   "cell_type": "markdown",
   "metadata": {},
   "source": [
    "Now we read the structural mesh size (nodes and elements)"
   ]
  },
  {
   "cell_type": "code",
   "execution_count": null,
   "metadata": {},
   "outputs": [],
   "source": [
    "    structure_problem_dimensions = StaticStructureProblemDimensions()\n",
    "\n",
    "    ns = structure_problem_dimensions.ns\n",
    "    ns_all = structure_problem_dimensions.ns_all\n",
    "    node_id = structure_problem_dimensions.node_id\n",
    "    node_id_all = structure_problem_dimensions.node_id_all\n",
    "    n_stress = structure_problem_dimensions.n_stress\n",
    "    tn = structure_problem_dimensions.tn\n",
    "    mn = 0\n",
    "    sn = 0\n",
    "    an = 0"
   ]
  },
  {
   "cell_type": "markdown",
   "metadata": {},
   "source": [
    "Similarly, we read the dimensions of the aerodynamic mesh and the information about its panel topology, separating high and low fidelity:"
   ]
  },
  {
   "cell_type": "code",
   "execution_count": null,
   "metadata": {},
   "outputs": [],
   "source": [
    "    #Low fidelity instance -- aero_template_l.wgs\n",
    "    aero_problem_dimensions = AeroProblemDimensions(aero_template_l)                                         \n",
    "    na = aero_problem_dimensions.na\n",
    "    na_unique = aero_problem_dimensions.na_unique\n",
    "    network_info = aero_problem_dimensions.network_info\n",
    "\n",
    "    #High fidelity instance -- aero_template_h.wgs\n",
    "    aero_problem_dimensions_h = AeroProblemDimensions(aero_template_h)\n",
    "    na_h = aero_problem_dimensions_h.na\n",
    "    na_unique_h = aero_problem_dimensions_h.na_unique\n",
    "    network_info_h = aero_problem_dimensions_h.network_info"
   ]
  },
  {
   "cell_type": "markdown",
   "metadata": {},
   "source": [
    "With the information on the dimensions of the mshes, we initialize the components that read the coordinates of the baseline meshes. Again, we must account for both fidelities:"
   ]
  },
  {
   "cell_type": "code",
   "execution_count": null,
   "metadata": {},
   "outputs": [],
   "source": [
    "    structure_problem_params = StaticStructureProblemParams(node_id, node_id_all)\n",
    "    \n",
    "    #Low fidelity instance -- aero_template_l.wgs\n",
    "    aero_problem_params = AeroProblemParams(aero_template_l)\n",
    "    \n",
    "    #High fidelity instance -- aero_template_h.wgs\n",
    "    aero_problem_params_h = AeroProblemParams(aero_template_h)"
   ]
  },
  {
   "cell_type": "markdown",
   "metadata": {},
   "source": [
    "Here we set the initial value of the design variables and the position of the nose of the BWB:"
   ]
  },
  {
   "cell_type": "code",
   "execution_count": null,
   "metadata": {},
   "outputs": [],
   "source": [
    "    #Design variable initial values (and other parameters)\n",
    "    t_0 = 0.01*np.ones(15)\n",
    "\n",
    "    theta_0 = np.zeros(5)\n",
    "\n",
    "    sweep_0 = np.array([26.62107398, 50.40477233, 64.93032268, 26.74549099])\n",
    "\n",
    "    #X-position of the leading edge at the root\n",
    "    xr = 50."
   ]
  },
  {
   "cell_type": "markdown",
   "metadata": {},
   "source": [
    "We create variables (in the Python sense) defining the upper and lower limits of the design variables:"
   ]
  },
  {
   "cell_type": "code",
   "execution_count": null,
   "metadata": {},
   "outputs": [],
   "source": [
    "    #Design variable boundaries\n",
    "    t_max = 2.*t_0\n",
    "    t_min = 0.05*t_0\n",
    "    \n",
    "    chords_max = 1.5*chords_0\n",
    "    chords_min = 0.5*chords_0\n",
    "\n",
    "    sweep_max = 75.*np.ones(4)\n",
    "    sweep_min = np.zeros(4)\n",
    "\n",
    "    b_max = 60.\n",
    "    b_min = 30.\n",
    "\n",
    "    alpha_max = 5.\n",
    "    alpha_min = 0.\n",
    "\n",
    "    theta_max = 5.*np.ones(len(theta_0))\n",
    "    theta_min = -5.*np.ones(len(theta_0))\n",
    "\n",
    "    tc_max = 0.25*np.ones(len(tc_0))\n",
    "    tc_min = 0.075*np.ones(len(tc_0))"
   ]
  },
  {
   "cell_type": "markdown",
   "metadata": {},
   "source": [
    "In order to perform the mesh morphing that enables to adapt the baseline structural mesh to an arbitrary BWB design, we need to define a baseline structural mesh and its corresponding aerodynamic surface mesh:"
   ]
  },
  {
   "cell_type": "code",
   "execution_count": null,
   "metadata": {},
   "outputs": [],
   "source": [
    "    #Coordinates of aerodynamic and structure matching meshes\n",
    "    xa_b = aero_problem_params.apoints_coord_unique\n",
    "    xa_b_h = aero_problem_params_h.apoints_coord_unique\n",
    "    xs_b = structure_problem_params.node_coord_all"
   ]
  },
  {
   "cell_type": "markdown",
   "metadata": {},
   "source": [
    "Now we start building the OpenMDAO proble itself. We first add and independent variable component for each one of the parameters that are constant throughout the optimization:"
   ]
  },
  {
   "cell_type": "code",
   "execution_count": null,
   "metadata": {},
   "outputs": [],
   "source": [
    "    top = Problem()\n",
    "    top.root = root = Group()\n",
    "\n",
    "    #Add independent variables (parameters)\n",
    "    root.add('Airspeed', IndepVarComp('V', V), promotes=['*'])\n",
    "    root.add('air_density', IndepVarComp('rho_a', rho_a), promotes=['*'])\n",
    "    root.add('Mach_number', IndepVarComp('Mach', Mach), promotes=['*'])\n",
    "    root.add('baseline_wing_span', IndepVarComp('b_baseline', b_baseline), promotes=['*'])\n",
    "    root.add('wing_chord', IndepVarComp('c', c), promotes=['*'])\n",
    "    root.add('Youngs_modulus', IndepVarComp('E', E), promotes=['*'])\n",
    "    root.add('Poissons_ratio', IndepVarComp('nu', nu), promotes=['*'])\n",
    "    root.add('material_density', IndepVarComp('rho_s', rho_s), promotes=['*'])\n",
    "    root.add('airframe_mass', IndepVarComp('W_airframe', W_airframe), promotes=['*'])\n",
    "    root.add('Tensile_Yield_Strength', IndepVarComp('sigma_y', sigma_y), promotes=['*'])\n",
    "    root.add('factor_safety', IndepVarComp('FS', FS), promotes=['*'])\n",
    "    root.add('y_leading_edge_baseline', IndepVarComp('y_le_baseline', y_le_baseline), promotes=['*'])\n",
    "    root.add('z_leading_edge', IndepVarComp('z_le', z_le), promotes=['*'])\n",
    "    root.add('camber_chord_ratio', IndepVarComp('camc', camc), promotes=['*'])\n",
    "    root.add('base_aerodynamic_mesh', IndepVarComp('xa_b', xa_b))\n",
    "    root.add('base_aerodynamic_mesh_h', IndepVarComp('xa_b', xa_b_h))\n",
    "    root.add('base_structure_mesh', IndepVarComp('xs_b', xs_b), promotes=['*'])\n",
    "    root.add('cruise_load_factor', IndepVarComp('n', n), promotes=['*'])\n",
    "    root.add('root_leading_edge_x', IndepVarComp('xr', xr), promotes=['*'])\n",
    "    root.add('equivalent_friction_coefficient', IndepVarComp('Cfe', Cfe), promotes=['*'])\n",
    "    root.add('critical_mach_factor', IndepVarComp('k', k), promotes=['*'])\n",
    "    root.add('specific_fuel_consumption', IndepVarComp('SFC', SFC), promotes=['*'])\n",
    "    root.add('design_range', IndepVarComp('R', R), promotes=['*'])"
   ]
  },
  {
   "cell_type": "markdown",
   "metadata": {},
   "source": [
    "We add now an independent variable component for each one of the design variables:"
   ]
  },
  {
   "cell_type": "code",
   "execution_count": null,
   "metadata": {},
   "outputs": [],
   "source": [
    "    # Independent variables that are optimization design variables\n",
    "    root.add('thicknesses', IndepVarComp('t', t_0), promotes=['*'])\n",
    "    root.add('local_chords', IndepVarComp('chords', chords_0), promotes=['*'])\n",
    "    root.add('local_sweep_angles', IndepVarComp('sweep', sweep_0), promotes=['*'])\n",
    "    root.add('wing_span', IndepVarComp('b', b_0), promotes=['*'])\n",
    "    root.add('wing_twist', IndepVarComp('theta', theta_0), promotes=['*'])\n",
    "    root.add('angle_of_attack', IndepVarComp('alpha', alpha_0), promotes=['*'])\n",
    "    root.add('airfoil_tc_ratio', IndepVarComp('tc', tc_0), promotes=['*'])\n",
    "    root.add('minimum_cabin_height', IndepVarComp('h_min', h_min), promotes=['*'])\n",
    "    root.add('minimum_cabin_area', IndepVarComp('area_min', area_min), promotes=['*'])"
   ]
  },
  {
   "cell_type": "markdown",
   "metadata": {},
   "source": [
    "We add two interpolation components: one used to adapt the structural FEM mesh to the geometry of the current iteration and the other to transfer the elastic displacements from the structural mesh to the aerodynamic surface (as it as done in the MDA tutorial):"
   ]
  },
  {
   "cell_type": "code",
   "execution_count": null,
   "metadata": {},
   "outputs": [],
   "source": [
    "    #Interpolation Components\n",
    "    root.add('interp_struct_morph', Interpolation(ns_all, na_unique_h, function = function_type, bias = bias_morph))\n"
   ]
  },
  {
   "cell_type": "markdown",
   "metadata": {},
   "source": [
    "Here we add the components that compute the coordinates of the aerodynamic and structural meshes according to the geometric design variables. We also add the component that provides the X-coordinates of the leading edges of the sections according to the planform design variables:"
   ]
  },
  {
   "cell_type": "code",
   "execution_count": null,
   "metadata": {},
   "outputs": [],
   "source": [
    "    #Geometry and meshing Components\n",
    "    root.add('aerodynamic_mesher', PanairMesher(n_sec, na, na_unique, network_info, ref_airfoil_files), promotes=['camc','chords','tc','theta','x_le','y_le','z_le'])\n",
    "    root.add('aerodynamic_mesher_h', PanairMesher(n_sec, na_h, na_unique_h, network_info_h, ref_airfoil_files), promotes=['camc','chords','tc','theta','x_le','y_le','z_le','apoints_coord','apoints_coord_unique'])\n",
    "    root.add('structure_mesher', StructureMesher(na_unique_h, node_id, node_id_all), promotes=['*'])\n",
    "    root.add('x_leading_edge', XLeadingEdge(n_sec), promotes=['*'])"
   ]
  },
  {
   "cell_type": "markdown",
   "metadata": {},
   "source": [
    "We add an ExecComp (a type of component representing a set of simple mathematical relationships) to compute the Y-coordinate of each section. Given the position of each section on the baseline configuration, its position is simply scaled according to the overall wingspan):"
   ]
  },
  {
   "cell_type": "code",
   "execution_count": null,
   "metadata": {},
   "outputs": [],
   "source": [
    "    root.add('y_leading_edge', ExecComp(\n",
    "        'y_le = b/b_baseline*y_le_baseline', y_le=np.zeros(len(y_le_baseline), dtype=float), y_le_baseline=np.zeros(len(y_le_baseline), dtype=float)), promotes=['*'])"
   ]
  },
  {
   "cell_type": "markdown",
   "metadata": {},
   "source": [
    "For the computation of the aerodynamic coefficients we add the component that computes the planform of the current iteration. For the computation of the viscous drag we add the total wet surface. The viscous drag contribution to the CD is computed from the friction coefficient:"
   ]
  },
  {
   "cell_type": "code",
   "execution_count": null,
   "metadata": {},
   "outputs": [],
   "source": [
    "    #Planform area\n",
    "    root.add('reference_surface',\n",
    "             ExecComp('Sw = 2.*area_segment.sum()', area_segment=np.zeros(n_sec-1, dtype=float)), promotes=['*'])\n",
    "    \n",
    "    #Total wet surface\n",
    "    root.add('wet_surface', ExecComp(\n",
    "        'S_wet = 2*Sw'), promotes=['*'])\n",
    "\n",
    "    root.add('zero_lift_CD', ExecComp('CD0 = Cfe*S_wet/Sw'), promotes=['*'])"
   ]
  },
  {
   "cell_type": "markdown",
   "metadata": {},
   "source": [
    "The WingSegmentProps component provides information on the geometrical properties of each wing section. These properties are used to compute the average thicknes--to-chord ratio, as well as the average quarter-chord sweep, which are used along with the critical Mach number for the estimation of the wave drag:"
   ]
  },
  {
   "cell_type": "code",
   "execution_count": null,
   "metadata": {},
   "outputs": [],
   "source": [
    "    root.add('wing_segment_properties', WingSegmentProps(n_sec), promotes=['*'])\n",
    "\n",
    "    #Weighted average thickness-to-chord ratio\n",
    "    root.add('average_tc_ratio',\n",
    "             ExecComp('tc_avg = (area_segment*tc_segment).sum()/(area_segment).sum()', area_segment=np.zeros(n_sec-1, dtype=float), tc_segment=np.zeros(n_sec-1, dtype=float)), promotes=['*'])\n",
    "\n",
    "    #Weighted average quarter-chord sweep\n",
    "    root.add('average_quarter_chord_sweep',\n",
    "             ExecComp('sweep_avg = (area_segment*sweep_segment).sum()/(area_segment).sum()', area_segment=np.zeros(n_sec-1, dtype=float), sweep_segment=np.zeros(n_sec-1, dtype=float)), promotes=['*'])\n",
    "\n",
    "    #Critical Mach number for wave drag\n",
    "    root.add('critical_mach', ExecComp(\n",
    "        'Mcr = k/cos(radians(sweep_avg)) - tc_avg/cos(radians(sweep_avg))**2 - CL/(10.*cos(radians(sweep_avg))**3) - (0.1/80.)**(1./3.)'), promotes=['*'])\n",
    "\n",
    "    root.add('wave_drag_coefficient', WaveDrag(), promotes=['*'])"
   ]
  },
  {
   "cell_type": "markdown",
   "metadata": {},
   "source": [
    "The drag coefficient is computed from the contributions of the viscous, induced, and wave drag:"
   ]
  },
  {
   "cell_type": "code",
   "execution_count": null,
   "metadata": {},
   "outputs": [],
   "source": [
    "    root.add('drag_coefficient', ExecComp('CD = CD0 + CDi + CDw'), promotes=['*'])\n",
    "\n",
    "    #Drag force\n",
    "    root.add('drag_force', ExecComp('D = 0.5*rho_a*V**2*Sw*CD'), promotes=['*'])"
   ]
  },
  {
   "cell_type": "markdown",
   "metadata": {},
   "source": [
    "We compute the fuel burn using Breguet's equation:"
   ]
  },
  {
   "cell_type": "code",
   "execution_count": null,
   "metadata": {},
   "outputs": [],
   "source": [
    "    #Fuel burn (Breguet equation)\n",
    "    root.add('fuel_burn', ExecComp('FB = (W_airframe+2.*1.25*mass)*(exp(R*9.81*SFC/(V*(CL/CD))) - 1)'), promotes=['*'])"
   ]
  },
  {
   "cell_type": "markdown",
   "metadata": {},
   "source": [
    "The setup of the aeroelastic MDA is the same as in the MDA tutorial, except that now we specify the order of the components inside the group and split the MDA in two fidelities connected by the filter component:"
   ]
  },
  {
   "cell_type": "code",
   "execution_count": null,
   "metadata": {},
   "outputs": [],
   "source": [
    "    # Aeroelastic MDA components\n",
    "    mda_l = Group()\n",
    "    \n",
    "    #Add disciplines to the low fidelity group \n",
    "    mda_l.add('mult_filter_l', Filter(ns, fidelity)) #This component allows to recover result from HiFi \n",
    "    mda_l.add('displacement_transfer', DisplacementTransfer(na, ns)) \n",
    "    mda_l.add('aerodynamics', Panair(na, network_info, case_name, aero_template_l, sym_plane_index=sym_plane_index), promotes=['V','Sw','alpha','rho_a']) \n",
    "    mda_l.add('load_transfer', LoadTransfer(na, ns))\n",
    "    mda_l.add('structures', NastranStatic(node_id, node_id_all, n_stress, tn, mn, sn, case_name, an=an), promotes=['n','m','t','s','Ix','Iy','a'])\n",
    "    \n",
    "    #Inner interpolation methods \n",
    "    mda_l.add('inter', Interpolation(na, ns, function = function_type, bias = bias_inter), promotes=['node_coord'])\n",
    "    \n",
    "    #Hi-Fi Group\n",
    "    mda_h = Group()\n",
    "    \n",
    "    #Add disciplines to the high-fidelity group \n",
    "    mda_h.add('mult_filter_h', Filter(ns, fidelity))\n",
    "    mda_h.add('displacement_transfer_h', DisplacementTransfer(na_h, ns))\n",
    "    mda_h.add('aerodynamics_h', Panair(na_h, network_info_h, case_name_h, aero_template_h, sym_plane_index=sym_plane_index), promotes=['V','Sw','alpha','rho_a','CL','CDi','apoints_coord'])    \n",
    "    mda_h.add('load_transfer_h', LoadTransfer(na_h, ns))\n",
    "    mda_h.add('structures_h', NastranStatic(node_id, node_id_all, n_stress, tn, mn, sn, case_name_h, an=an), promotes=['mass','VMStress','n','m','t','s','Ix','Iy','node_coord_all','a'])\n",
    "    \n",
    "    #Inner interpolation method\n",
    "    mda_h.add('inter_h', Interpolation(na_h, ns, function = function_type, bias = bias_inter), promotes=['apoints_coord','node_coord'])"
   ]
  },
  {
   "cell_type": "code",
   "execution_count": null,
   "metadata": {},
   "outputs": [],
   "source": [
    "    #Define solver type and tolerance for MDA Lo-Fi\n",
    "    mda_l.nl_solver = NLGaussSeidel()\n",
    "    #The solver execution limit is used to control fidelity levels\n",
    "    if fidelity == 'high':\n",
    "        mda_l.nl_solver.options['maxiter'] = 0 #No Lo-Fi iterations\n",
    "              \n",
    "    mda_l.nl_solver.options['rutol'] = 1.e-1 \n",
    "    mda_l.nl_solver.options['use_aitken'] = True\n",
    "    mda_l.nl_solver.options['aitken_alpha_min'] = 0.1\n",
    "    mda_l.nl_solver.options['aitken_alpha_max'] = 1.5\n",
    "\n",
    "    mda_l.ln_solver = ScipyGMRES()\n",
    "    \n",
    "    #Define solver type and tolerance for MDA Hi-Fi\n",
    "    mda_h.nl_solver = NLGaussSeidel()\n",
    "    #The solver execution limit is used to control fidelity levels\n",
    "    if fidelity == 'low':\n",
    "        mda_h.nl_solver.options['maxiter'] = 0\n",
    "        \n",
    "    mda_h.nl_solver.options['rutol'] = 1.e-1\n",
    "    mda_h.nl_solver.options['use_aitken'] = True\n",
    "    mda_h.nl_solver.options['aitken_alpha_min'] = 0.1\n",
    "    mda_h.nl_solver.options['aitken_alpha_max'] = 1.5\n",
    "\n",
    "    mda_h.ln_solver = ScipyGMRES()\n",
    "\n",
    "    root.add('mda_group_l', mda_l, promotes=['*'])\n",
    "\n",
    "    #Explicit connection Lo-Fi\n",
    "    root.mda_group_l.connect('displacement_transfer.delta','aerodynamics.delta')\n",
    "    root.mda_group_l.connect('inter.H','displacement_transfer.H')\n",
    "    root.mda_group_l.connect('mult_filter_l.us','displacement_transfer.u')\n",
    "    root.mda_group_l.connect('aerodynamics.f_a','load_transfer.f_a')\n",
    "    root.mda_group_l.connect('load_transfer.f_node','structures.f_node')\n",
    "    root.mda_group_l.connect('inter.H','load_transfer.H')\n",
    "    root.mda_group_l.connect('structures.u','mult_filter_l.u')\n",
    "    root.mda_group_l.connect('aerodynamics.apoints_coord','inter.apoints_coord')\n",
    "    root.connect('aerodynamic_mesher.apoints_coord', 'aerodynamics.apoints_coord')\n",
    "    root.connect('aerodynamic_mesher.apoints_coord','inter.apoints_coord')\n",
    "    #Connect Indep Variables\n",
    "    root.connect('Mach', 'aerodynamics.Mach')\n",
    "    root.connect('b_baseline', 'aerodynamics.b')\n",
    "    root.connect('c', 'aerodynamics.c')\n",
    "    root.connect('nu', 'structures.nu')\n",
    "    root.connect('E', 'structures.E')\n",
    "    root.connect('rho_s', 'structures.rho_s')\n",
    "    root.connect('xs_b', 'structures.node_coord_all')\n",
    "    \n",
    "    root.add('mda_group_h', mda_h, promotes=['*'])\n",
    "    \n",
    "    #Explicit connection Hi-Fi\n",
    "    root.mda_group_h.connect('displacement_transfer_h.delta','aerodynamics_h.delta')\n",
    "    root.mda_group_h.connect('inter_h.H','displacement_transfer_h.H')\n",
    "    root.mda_group_h.connect('mult_filter_h.us','displacement_transfer_h.u')\n",
    "    root.mda_group_h.connect('aerodynamics_h.f_a','load_transfer_h.f_a')\n",
    "    root.mda_group_h.connect('load_transfer_h.f_node','structures_h.f_node')\n",
    "    root.mda_group_h.connect('inter_h.H','load_transfer_h.H')\n",
    "    root.mda_group_h.connect('structures_h.u','mult_filter_h.u')\n",
    "    \n",
    "    #This order guarantees that the filters are always privileged in the computation\n",
    "    root.mda_group_l.set_order(['mult_filter_l', 'inter', 'displacement_transfer', 'aerodynamics', 'load_transfer','structures'])\n",
    "    root.mda_group_h.set_order(['mult_filter_h', 'inter_h', 'displacement_transfer_h', 'aerodynamics_h', 'load_transfer_h', 'structures_h'])\n",
    "    #Connect Indep Variables\n",
    "    root.connect('Mach', 'aerodynamics_h.Mach')\n",
    "    root.connect('b_baseline', 'aerodynamics_h.b')\n",
    "    root.connect('c', 'aerodynamics_h.c')\n",
    "    root.connect('nu', 'structures_h.nu')\n",
    "    root.connect('E', 'structures_h.E')\n",
    "    root.connect('rho_s', 'structures_h.rho_s')\n",
    "        \n",
    "    #Multifidelity explicit connections\n",
    "    \n",
    "    root.connect('structures.u', 'mult_filter_h.ul')\n",
    "    root.connect('structures_h.u', 'mult_filter_l.ul')\n",
    "    \n",
    "    #Recorder Lo-Fi\n",
    "    recorder_l = SqliteRecorder('mda_l.sqlite3')\n",
    "    recorder_l.options['record_metadata'] = False\n",
    "    #Recorder Hi-Fi\n",
    "    recorder_h = SqliteRecorder('mda_h.sqlite3')\n",
    "    recorder_h.options['record_metadata'] = False\n",
    "    top.root.mda_group_l.nl_solver.add_recorder(recorder_l)\n",
    "    top.root.mda_group_h.nl_solver.add_recorder(recorder_h)"
   ]
  },
  {
   "cell_type": "markdown",
   "metadata": {},
   "source": [
    "Since the optimizer used here, COBYLA (the gradient-free optimizer available within OpenMDAO), does not handle equality constraints, each equality constraint has to be decomposed into two inequality constraints of opposite sign. This is the cqse of the lift constraint:"
   ]
  },
  {
   "cell_type": "code",
   "execution_count": null,
   "metadata": {},
   "outputs": [],
   "source": [
    "    #Constraint components\n",
    "    #Lift coefficient constraints (two constraints with same value to treat equality constraint as two inequality constraints)\n",
    "    root.add('con_lift_cruise_upper', ExecComp(\n",
    "        'con_l_u = CL - n*(W_airframe+2.*1.25*mass+0.2*FB)*9.81/(0.5*rho_a*V**2*Sw)'), promotes=['*'])\n",
    "    root.add('con_lift_cruise_lower', ExecComp(\n",
    "        'con_l_l = CL - n*(W_airframe+2.*1.25*mass+0.2*FB)*9.81/(0.5*rho_a*V**2*Sw)'), promotes=['*'])"
   ]
  },
  {
   "cell_type": "markdown",
   "metadata": {},
   "source": [
    "We add a component that computes the maximum of all von Mises stresses. However we will not add is as an optimization constraint, we will only use it to monitorize the evolution of the optimization:"
   ]
  },
  {
   "cell_type": "code",
   "execution_count": null,
   "metadata": {},
   "outputs": [],
   "source": [
    "    #Maximum stress constraint (considering factor of safety)\n",
    "    root.add('con_stress', ExecComp('con_s = (W_airframe+2.*1.25*mass+FB)/(W_airframe+2.*1.25*mass+0.2*FB)*FS*2.5*max(VMStress) - sigma_y',\n",
    "                                    VMStress=np.zeros(n_stress, dtype=float)), promotes=['*'])"
   ]
  },
  {
   "cell_type": "markdown",
   "metadata": {},
   "source": [
    "We add the inequality constraints for the von Mises stress. In total, they are twice the number of shell elements (each shell element has two faces with different von Mises stress values):"
   ]
  },
  {
   "cell_type": "code",
   "execution_count": null,
   "metadata": {},
   "outputs": [],
   "source": [
    "    #Stress constraints (considering max load factor and factor of safety)\n",
    "    for i in range(n_stress):\n",
    "        root.add('con_stress_'+str(i+1), ExecComp('con_s_'+str(i+1)+' = (W_airframe+2.*1.25*mass+FB)/(W_airframe+2.*1.25*mass+0.2*FB)*FS*2.5*VMStress['+str(\n",
    "            i)+'] - sigma_y', VMStress=np.zeros(n_stress, dtype=float)), promotes=['*'])"
   ]
  },
  {
   "cell_type": "markdown",
   "metadata": {},
   "source": [
    "We add a constraint for the minimum height and minimum area of the cabin:"
   ]
  },
  {
   "cell_type": "code",
   "execution_count": null,
   "metadata": {},
   "outputs": [],
   "source": [
    "    #Minimum cabin height constraint\n",
    "    for i in range(3):\n",
    "        root.add('con_height_'+str(i+1), ExecComp('con_h_'+str(i+1)+' = 0.9*tc['+str(i)+']*chords['+str(i)+'] - h_min', tc=np.zeros(n_sec, dtype=float), chords=np.zeros(n_sec, dtype=float)), promotes=['*'])\n",
    "\n",
    "    #Minimum cabin area constraint\n",
    "    root.add('con_cabin_area', ExecComp('con_area = 2.*area_segment[:2].sum() - area_min', area_segment=np.zeros(n_sec-1, dtype=float)), promotes=['*'])"
   ]
  },
  {
   "cell_type": "markdown",
   "metadata": {},
   "source": [
    "Since COBYLA does not enforce design variable bounds, we introduce them as optimization constraints. In that manner, they might not be enforced during the optimization process, but they should be respected when the optimization has converged:"
   ]
  },
  {
   "cell_type": "code",
   "execution_count": null,
   "metadata": {},
   "outputs": [],
   "source": [
    "    #Add design variable bounds as constraints (COBYLA does not support design variable bounds)\n",
    "    for i in range(tn):\n",
    "        root.add('t_lower_bound_'+str(i+1), ExecComp('t_l_'+str(i+1) +\n",
    "                                                     ' = t['+str(i)+']', t=np.zeros(tn, dtype=float)), promotes=['*'])\n",
    "        root.add('t_upper_bound_'+str(i+1), ExecComp('t_u_'+str(i+1) +\n",
    "                                                     ' = t['+str(i)+']', t=np.zeros(tn, dtype=float)), promotes=['*'])\n",
    "\n",
    "    root.add('b_lower_bound', ExecComp('b_l = b'), promotes=['*'])\n",
    "    root.add('b_upper_bound', ExecComp('b_u = b'), promotes=['*'])\n",
    "\n",
    "    root.add('alpha_lower_bound', ExecComp('alpha_l = alpha'), promotes=['*'])\n",
    "    root.add('alpha_upper_bound', ExecComp('alpha_u = alpha'), promotes=['*'])\n",
    "\n",
    "    for i in range(n_sec):\n",
    "        root.add('theta_lower_bound_'+str(i+1), ExecComp('theta_l_'+str(i+1) +\n",
    "                                                         ' = theta['+str(i)+']', theta=np.zeros(n_sec, dtype=float)), promotes=['*'])\n",
    "        root.add('theta_upper_bound_'+str(i+1), ExecComp('theta_u_'+str(i+1) +\n",
    "                                                         ' = theta['+str(i)+']', theta=np.zeros(n_sec, dtype=float)), promotes=['*'])\n",
    "        root.add('tc_lower_bound_'+str(i+1), ExecComp('tc_l_'+str(i+1) +\n",
    "                                                      ' = tc['+str(i)+']', tc=np.zeros(n_sec, dtype=float)), promotes=['*'])\n",
    "        root.add('tc_upper_bound_'+str(i+1), ExecComp('tc_u_'+str(i+1) +\n",
    "                                                      ' = tc['+str(i)+']', tc=np.zeros(n_sec, dtype=float)), promotes=['*'])\n",
    "        root.add('chords_lower_bound_'+str(i+1), ExecComp('chords_l_'+str(i+1) +\n",
    "                                                          ' = chords['+str(i)+']', chords=np.zeros(n_sec, dtype=float)), promotes=['*'])\n",
    "        root.add('chords_upper_bound_'+str(i+1), ExecComp('chords_u_'+str(i+1) +\n",
    "                                                          ' = chords['+str(i)+']', chords=np.zeros(n_sec, dtype=float)), promotes=['*'])\n",
    "    \n",
    "    for i in range(n_sec-1):\n",
    "        root.add('sweep_lower_bound_'+str(i+1), ExecComp('sweep_l_'+str(i+1) +\n",
    "                                                         ' = sweep['+str(i)+']', sweep=np.zeros(n_sec-1, dtype=float)), promotes=['*'])\n",
    "        root.add('sweep_upper_bound_'+str(i+1), ExecComp('sweep_u_'+str(i+1) +\n",
    "                                                         ' = sweep['+str(i)+']', sweep=np.zeros(n_sec-1, dtype=float)), promotes=['*'])\n"
   ]
  },
  {
   "cell_type": "markdown",
   "metadata": {},
   "source": [
    "   Now we connect the components whose variables do not have global names:"
   ]
  },
  {
   "cell_type": "code",
   "execution_count": null,
   "metadata": {},
   "outputs": [],
   "source": [
    "    #Explicit connections\n",
    "    root.connect('interp_struct_morph.H', 'G')\n",
    "    root.connect('base_aerodynamic_mesh_h.xa_b', 'interp_struct_morph.node_coord')\n",
    "    root.connect('xs_b', 'interp_struct_morph.apoints_coord')"
   ]
  },
  {
   "cell_type": "markdown",
   "metadata": {},
   "source": [
    "Here we define the optimizer (COBYLA), the tolerance and the maximum number of iterations:"
   ]
  },
  {
   "cell_type": "code",
   "execution_count": null,
   "metadata": {},
   "outputs": [],
   "source": [
    "    #Define the optimizer (Scipy)\n",
    "    top.driver = ScipyOptimizer()\n",
    "    top.driver.options['optimizer'] = 'COBYLA'\n",
    "    top.driver.options['disp'] = True\n",
    "    top.driver.options['tol'] = 1.e-3\n",
    "    top.driver.options['maxiter'] = 500\n",
    "    top.driver.opt_settings['rhobeg'] = 0.7"
   ]
  },
  {
   "cell_type": "markdown",
   "metadata": {},
   "source": [
    "After setting the optimizer as the driver of the problem, we set the independent variables that we choose as design variables:"
   ]
  },
  {
   "cell_type": "code",
   "execution_count": null,
   "metadata": {},
   "outputs": [],
   "source": [
    "    top.driver.add_desvar('t', lower=t_min, upper=t_max,\n",
    "                          adder=-t_min, scaler=1./(t_max-t_min))\n",
    "    \n",
    "    top.driver.add_desvar('chords', lower=chords_min, upper=chords_max,\n",
    "                          adder=-chords_min, scaler=1./(chords_max-chords_min))\n",
    "    top.driver.add_desvar('sweep', lower=sweep_min, upper=sweep_max,\n",
    "                          adder=-sweep_min, scaler=1./(sweep_max-sweep_min))\n",
    "    top.driver.add_desvar('b', lower=b_min, upper=b_max,\n",
    "                          adder=-b_min, scaler=1./(b_max-b_min))\n",
    "    top.driver.add_desvar('alpha', lower=alpha_min, upper=alpha_max,\n",
    "                          adder=-alpha_min, scaler=1./(alpha_max-alpha_min))\n",
    "    top.driver.add_desvar('theta', lower=theta_min, upper=theta_max,\n",
    "                          adder=-theta_min, scaler=1./(theta_max-theta_min))\n",
    "    top.driver.add_desvar('tc', lower=tc_min, upper=tc_max,\n",
    "                          adder=-tc_min, scaler=1./(tc_max-tc_min))"
   ]
  },
  {
   "cell_type": "markdown",
   "metadata": {},
   "source": [
    "In a smimilar manner, we set the fuel burn as the objective function (minimization, by default):"
   ]
  },
  {
   "cell_type": "code",
   "execution_count": null,
   "metadata": {},
   "outputs": [],
   "source": [
    "    top.driver.add_objective('FB')"
   ]
  },
  {
   "cell_type": "markdown",
   "metadata": {},
   "source": [
    "We add the stress constraints as inequality constraints:"
   ]
  },
  {
   "cell_type": "code",
   "execution_count": null,
   "metadata": {},
   "outputs": [],
   "source": [
    "    for i in range(n_stress):\n",
    "        top.driver.add_constraint('con_s_'+str(i+1), upper=0., scaler=1./sigma_y)"
   ]
  },
  {
   "cell_type": "markdown",
   "metadata": {},
   "source": [
    "We add the two inequality constraints representing the equality constraint of the total lift:"
   ]
  },
  {
   "cell_type": "code",
   "execution_count": null,
   "metadata": {},
   "outputs": [],
   "source": [
    "    top.driver.add_constraint(\n",
    "        'con_l_u', upper=0., scaler=1./(n*W_ref*9.81/(0.5*rho_a*V**2*S_ref)))\n",
    "    top.driver.add_constraint(\n",
    "        'con_l_l', lower=0., scaler=1./(n*W_ref*9.81/(0.5*rho_a*V**2*S_ref)))"
   ]
  },
  {
   "cell_type": "markdown",
   "metadata": {},
   "source": [
    "We add an additional constraint that prevents the Breguet equation from reaching negative fuel burn values:"
   ]
  },
  {
   "cell_type": "code",
   "execution_count": null,
   "metadata": {},
   "outputs": [],
   "source": [
    "    #Ensure positive FB\n",
    "    top.driver.add_constraint('FB', lower=0.)"
   ]
  },
  {
   "cell_type": "markdown",
   "metadata": {},
   "source": [
    "Finally, we add the design variable bounds as optimization constraints:"
   ]
  },
  {
   "cell_type": "code",
   "execution_count": null,
   "metadata": {},
   "outputs": [],
   "source": [
    "    # Add design variable bounds constraints to the driver\n",
    "    for i in range(tn):\n",
    "        top.driver.add_constraint('t_l_'+str(i+1), lower=t_min[i], scaler=1./t_0[i])\n",
    "        top.driver.add_constraint('t_u_'+str(i+1), upper=t_max[i], scaler=1./t_0[i])\n",
    "    \n",
    "    top.driver.add_constraint('b_l', lower=b_min, scaler=1./b_0)\n",
    "    top.driver.add_constraint('b_u', upper=b_max, scaler=1./b_0)\n",
    "\n",
    "    top.driver.add_constraint('alpha_l', lower=alpha_min, scaler=1./alpha_0)\n",
    "    top.driver.add_constraint('alpha_u', upper=alpha_max, scaler=1./alpha_0)\n",
    "\n",
    "    for i in range(n_sec):\n",
    "        top.driver.add_constraint(\n",
    "            'theta_l_'+str(i+1), lower=theta_min[i], scaler=1.)\n",
    "        top.driver.add_constraint(\n",
    "            'theta_u_'+str(i+1), upper=theta_max[i], scaler=1.)\n",
    "        top.driver.add_constraint(\n",
    "            'tc_l_'+str(i+1), lower=tc_min[i], scaler=1.)\n",
    "        top.driver.add_constraint(\n",
    "            'tc_u_'+str(i+1), upper=tc_max[i], scaler=1.)\n",
    "        top.driver.add_constraint(\n",
    "            'chords_l_'+str(i+1), lower=chords_min[i], scaler=1.)\n",
    "        top.driver.add_constraint(\n",
    "            'chords_u_'+str(i+1), upper=chords_max[i], scaler=1.)\n",
    "    \n",
    "    for i in range(n_sec-1):\n",
    "        top.driver.add_constraint(\n",
    "            'sweep_l_'+str(i+1), lower=sweep_min[i], scaler=1.)\n",
    "        top.driver.add_constraint(\n",
    "            'sweep_u_'+str(i+1), upper=sweep_max[i], scaler=1.)"
   ]
  },
  {
   "cell_type": "markdown",
   "metadata": {},
   "source": [
    "We add a recorder to keep track of the design variables, constraints and objective during and after the optimization:"
   ]
  },
  {
   "cell_type": "code",
   "execution_count": null,
   "metadata": {},
   "outputs": [],
   "source": [
    "    recorder = SqliteRecorder('mdao.sqlite3')\n",
    "    recorder.options['record_metadata'] = False\n",
    "    recorder.options['includes'] = ['CDi', 'con_l_u', 'con_s', 't', 'a', 'chords', 'sweep', 'b', 'alpha', 'theta', 'tc', 'CD0', 'CDw', 'D', 'FB', 'con_area', 'con_h_1', 'con_h_2', 'con_h_3']\n",
    "    \n",
    "    top.driver.add_recorder(recorder)"
   ]
  },
  {
   "cell_type": "code",
   "execution_count": null,
   "metadata": {},
   "outputs": [],
   "source": [
    "    #Define solver type\n",
    "    root.ln_solver = ScipyGMRES()\n",
    "\n",
    "    start1 = time.time() #timer for set-up and re-order\n",
    "    top.setup()\n",
    "    order = root.list_auto_order() #This is to ensure that the mda_l group is executed always before the mda_h group\n",
    "    a, b = order[0].index('mda_group_h'), order[0].index('mda_group_l')\n",
    "    order[0].insert(a, order[0].pop(b))\n",
    "    root.set_order(order[0])\n",
    "    end1 = time.time()\n",
    "    view_model(top, show_browser=False) #generates an N2 diagram to visualize connections"
   ]
  },
  {
   "cell_type": "markdown",
   "metadata": {},
   "source": [
    " Finally we make sure that the initial values of the design variables are the ones we specified. If necessary, they could be changed at this point, right before running the optimization:"
   ]
  },
  {
   "cell_type": "code",
   "execution_count": null,
   "metadata": {},
   "outputs": [],
   "source": [
    "    #Setting initial values for design variables\n",
    "    top['t'] = t_0\n",
    "    top['chords'] = chords_0\n",
    "    top['sweep'] = sweep_0\n",
    "    top['b'] = b_0\n",
    "    top['alpha'] = alpha_0\n",
    "    top['theta'] = theta_0\n",
    "    top['tc'] = tc_0"
   ]
  },
  {
   "cell_type": "code",
   "execution_count": null,
   "metadata": {},
   "outputs": [],
   "source": [
    "    start2 = time.time()\n",
    "    top.run()\n",
    "    end2 = time.time()\n",
    "    top.cleanup()  # this closes all recorders\n",
    "    print(\"Set up time = \" + str(end1 - start1))\n",
    "    print(\"Run time = \" + str(end2 - start2))"
   ]
  }
 ],
 "metadata": {
  "kernelspec": {
   "display_name": "Python 3",
   "language": "python",
   "name": "python3"
  },
  "language_info": {
   "codemirror_mode": {
    "name": "ipython",
    "version": 3
   },
   "file_extension": ".py",
   "mimetype": "text/x-python",
   "name": "python",
   "nbconvert_exporter": "python",
   "pygments_lexer": "ipython3",
   "version": "3.7.1"
  }
 },
 "nbformat": 4,
 "nbformat_minor": 2
}
