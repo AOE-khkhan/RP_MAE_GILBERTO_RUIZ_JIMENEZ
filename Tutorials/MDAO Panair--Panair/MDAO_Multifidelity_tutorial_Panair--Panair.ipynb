{
 "cells": [
  {
   "cell_type": "markdown",
   "metadata": {},
   "source": [
    "# Aeroelastic Multidisciplinary Analysis and Optimization (MDAO) Tutorial: Multi-Fidelity Version\n",
    "\n",
    "# Panair -- Panair \n",
    "In this tutorial, we will see how to set up and perform a static aeroelastic analysis and optimization using the [aerostructures](https://github.com/mid2SUPAERO/aerostructures) package and [OpenMDAO](https://github.com/mid2SUPAERO/OpenMDAO1).\n",
    "\n",
    "The multifidelity of this version is introduced with __two different aerodynamic meshes__, while keeping the same fluid flow solver. This helps the user to identify easily the differences with the single fidelity version of the tutorial and makes it easier to transition to the Panair -- ADFlow version.\n",
    "\n",
    "Since the required files and the structure of the OpenMDAO problem formulation are based on the previous tutorial on MDA, we will only describe the __differences__ with respect to the previous tutorial.\n",
    "\n",
    "## Required files\n",
    "The required files describing the geometry of the baseline structural and aerodynamic meshes are identical to the ones of the MDA tutorial. However, the template file for the structural solver includes some more dictionary keys for the structural properties that are set as independent variables. In addition, a text file containing the baseline definition of the wing airfoil is required ([crm.eta65.unswept31.5deg.sharp.te.txt](files/crm.eta65.unswept31.5deg.sharp.te.txt)). In comparison with the previous example, where the geometry was fixed, in this case the geometry will change according to the design variables, that is why a file containing the baseline geometry of the airfoil is required.\n",
    "\n",
    "### Template file for structural solver\n",
    "No we describe the differences of the structural template file ([nastran_static_template.inp](files/nastran_static_template.inp)). For the element property cards, there will now be a dictionary key for each property value. For example, for the properties of the rod elements:\n",
    "\n",
    "`PROD,13,1,{a1}`\n",
    "\n",
    "In this case, when the optimizer changes the cross-sectional area of the rod elements, the dictionary key will be substituted by the particular value at each iteration. The same thing happens with the shell properties:\n",
    "\n",
    "`PSHELL,1,1,{t1},1,,1`\n",
    "\n",
    "\n",
    "## OpenMDAO main file\n",
    "The complete main OpenMDAO file for this example can be found at [nastran_panair_mdao.py](files/nastran_panair_mdao.py). Since this example is based on the same baseline model, in this tutorial we will explain only the differences with respect to the MDA tutorial.\n",
    "\n",
    "### Preliminary data\n",
    "We import the necessary modules:"
   ]
  },
  {
   "cell_type": "code",
   "execution_count": 1,
   "metadata": {},
   "outputs": [],
   "source": [
    "from __future__ import print_function\n",
    "\n",
    "import numpy as np\n",
    "\n",
    "import time\n",
    "\n",
    "from openmdao.api import Problem, Group, IndepVarComp, ExecComp, ScipyGMRES, SqliteRecorder, view_model, ScipyOptimizer \n",
    "\n",
    "from aerostructures import NastranStatic, DisplacementTransfer, Panair, LoadTransfer, Interpolation, PanairMesher, StructureMesher, PlanformGeometry, StaticStructureProblemDimensions, AeroProblemDimensions, StaticStructureProblemParams, AeroProblemParams, NLGaussSeidel, Filter"
   ]
  },
  {
   "cell_type": "markdown",
   "metadata": {},
   "source": [
    "In this case, the RBF interpolation is also used to update the structural mesh coordinates according to the current geometry. For that, we set the norm bias for the structural mesh morphing. \n",
    "Also, two different case names are used, one for each fidelity level."
   ]
  },
  {
   "cell_type": "code",
   "execution_count": 2,
   "metadata": {},
   "outputs": [],
   "source": [
    "if __name__ == \"__main__\":\n",
    "\n",
    "    #Interpolation function type and setup\n",
    "    function_type = 'thin_plate'\n",
    "    bias_morph = (1.,1.,1.)\n",
    "    bias_inter = (1.,100.,1.)\n",
    "    \n",
    "    #Symmetry plane index\n",
    "    sym_plane_index = 2\n",
    "    \n",
    "    case_name = 'alpha_low'\n",
    "    case_name_h = 'alpha_high'"
   ]
  },
  {
   "cell_type": "markdown",
   "metadata": {},
   "source": [
    "Now we define the number of wing sections that are used to define the wing external geometry (`n_sec`) as well as the number of section where the wing break is located (`b_sec`). We also specify the baseline airfoil file:"
   ]
  },
  {
   "cell_type": "code",
   "execution_count": 3,
   "metadata": {},
   "outputs": [],
   "source": [
    "    #Number of wing sections\n",
    "    n_sec = 8\n",
    "\n",
    "    #Position (index) of the wing break\n",
    "    b_sec = 4\n",
    "\n",
    "    #Airfoil file\n",
    "    ref_airfoil_file = 'crm.eta65.unswept31.5deg.sharp.te.txt'"
   ]
  },
  {
   "cell_type": "markdown",
   "metadata": {},
   "source": [
    "Next we define some parameters of the problem and we declare the template files for each fidelity, the user inputs the fidelity level:"
   ]
  },
  {
   "cell_type": "code",
   "execution_count": 4,
   "metadata": {},
   "outputs": [
    {
     "name": "stdout",
     "output_type": "stream",
     "text": [
      "Please enter the fidelity level: low, high or multi: multi\n"
     ]
    }
   ],
   "source": [
    "    #Problem parameters\n",
    "    #Speed of sound\n",
    "    a = 297.4\n",
    "    Sw = 383.689555\n",
    "    V = 252.16168\n",
    "    Mach = V/a\n",
    "    rho_a = 0.38058496\n",
    "    alpha_0 = 1.340\n",
    "    b_0 = 58.7629\n",
    "    b_baseline = 58.7629\n",
    "    c = 7.00532\n",
    "    E = 6.89e10\n",
    "    nu = 0.31\n",
    "    rho_s = 2795.67\n",
    "    #Reference aircraft weight (mass units)\n",
    "    W_ref = 226796.185\n",
    "    #Wing weight (full span) of the reference aircraft (mass units)\n",
    "    W_ref_wing = 26400.\n",
    "    #Airframe weight (complete aircraft excluding wing structure, mass units)\n",
    "    W_airframe = W_ref - W_ref_wing\n",
    "    #Yield stress (can also be used as ultimate stress if FS = 1.5)\n",
    "    sigma_y = 450.e6\n",
    "    #Factor of safety\n",
    "    FS = 1.\n",
    "    #Cruise load factor\n",
    "    n = 1.\n",
    "    #Aerodynamic template files for both fidelities\n",
    "    #Hi-Fi\n",
    "    aero_template_l = 'aero_template_l.wgs'\n",
    "    #Lo-Fi\n",
    "    aero_template_h = 'aero_template_h.wgs'\n",
    "    # Multi-fidelity options 'low', for low-fidelity; 'high', for high-fidelity; 'multi', for multi-fidelity\n",
    "    fidelity = input('Please enter the fidelity level: low, high or multi: ')"
   ]
  },
  {
   "cell_type": "code",
   "execution_count": 5,
   "metadata": {},
   "outputs": [],
   "source": [
    "    #Sectional properties (that are not design variables)\n",
    "    y_le_baseline = np.array([0., 2.938145, 7.3453752, 10.8711746, 16.1598356, 20.5670658, 24.974296, 29.3815262])\n",
    "    z_le = np.array([4.424397971, 4.44511389, 4.476187859, 4.501047142, 4.538335797, 4.569409766, 4.600483735, 4.631557704])\n",
    "    c_0 = np.array([13.6189974, 11.9001794, 9.3216984,\n",
    "                    7.2588628, 5.9643264, 4.8855376, 3.8067488, 2.72796])\n",
    "    tc_0 = np.array([0.1542, 0.138, 0.1137, 0.1052, 0.0988, 0.0962, 0.0953, 0.095])\n",
    "    th = tc_0*c_0\n",
    "    camc = np.array([0.0003, 0.0012, 0.0037, 0.0095, 0.0146, 0.0158, 0.0161, 0.0009])"
   ]
  },
  {
   "cell_type": "code",
   "execution_count": 6,
   "metadata": {},
   "outputs": [],
   "source": [
    "    structure_problem_dimensions = StaticStructureProblemDimensions()\n",
    "                                                     \n",
    "    ns = structure_problem_dimensions.ns\n",
    "    ns_all = structure_problem_dimensions.ns_all\n",
    "    node_id = structure_problem_dimensions.node_id\n",
    "    node_id_all = structure_problem_dimensions.node_id_all\n",
    "    n_stress = structure_problem_dimensions.n_stress\n",
    "    tn = structure_problem_dimensions.tn\n",
    "    u = np.zeros((ns, 3))\n",
    "    ul = np.zeros((ns, 3)) #Auxiliary variable to transfer the displacement field between fidelities\n",
    "    #Choose 4 mass design variables\n",
    "    mn = 0\n",
    "    sn = 0\n",
    "    an = structure_problem_dimensions.an  "
   ]
  },
  {
   "cell_type": "markdown",
   "metadata": {},
   "source": [
    "We define one instance of the aerodynamic problem for each of the fidelities:"
   ]
  },
  {
   "cell_type": "code",
   "execution_count": 7,
   "metadata": {},
   "outputs": [],
   "source": [
    "    #Low fidelity instance -- aero_template_l.wgs\n",
    "    aero_problem_dimensions = AeroProblemDimensions(aero_template_l)                                         \n",
    "    na = aero_problem_dimensions.na\n",
    "    na_unique = aero_problem_dimensions.na_unique\n",
    "    network_info = aero_problem_dimensions.network_info\n",
    "\n",
    "    #High fidelity instance -- aero_template_h.wgs\n",
    "    aero_problem_dimensions_h = AeroProblemDimensions(aero_template_h)\n",
    "    na_h = aero_problem_dimensions_h.na\n",
    "    na_unique_h = aero_problem_dimensions_h.na_unique\n",
    "    network_info_h = aero_problem_dimensions_h.network_info"
   ]
  },
  {
   "cell_type": "code",
   "execution_count": 8,
   "metadata": {},
   "outputs": [],
   "source": [
    "    structure_problem_params = StaticStructureProblemParams(node_id, node_id_all)\n",
    "    \n",
    "    #Low fidelity instance -- aero_template_l.wgs\n",
    "    aero_problem_params = AeroProblemParams(aero_template_l)\n",
    "    \n",
    "    #High fidelity instance -- aero_template_h.wgs\n",
    "    aero_problem_params_h = AeroProblemParams(aero_template_h)"
   ]
  },
  {
   "cell_type": "code",
   "execution_count": 9,
   "metadata": {},
   "outputs": [],
   "source": [
    "    #Design variable initial values (and other parameters)\n",
    "    t_0 = np.array([.00635, .005334, .004572, .003302, .00254,\n",
    "                  .001651, .01905, .01524, .0127, .009525, .00508, .00254])\n",
    "\n",
    "    a_0 = np.array([0.0066339, 0.0048852, 0.0034935,\n",
    "                  0.0021121, 9.14E-04, 3.74E-04])\n",
    "\n",
    "    theta = np.array([6.691738003, 4.545042708, 2.793550837, 1.673916686,\n",
    "                      0.754303126, 0.91369482, 1.136056807, 0.272576679])\n",
    "\n",
    "    cr_0 = 13.6189974\n",
    "\n",
    "    cb_0 = 7.2588628\n",
    "\n",
    "    ct_0 = 2.72796\n",
    "\n",
    "    sweep_0 = 37.16\n",
    "\n",
    "    #X-position of the leading edge at the root\n",
    "    xr = 22.9690676"
   ]
  },
  {
   "cell_type": "code",
   "execution_count": 10,
   "metadata": {},
   "outputs": [],
   "source": [
    "    #Design variable boundaries\n",
    "    t_max = 3*t_0\n",
    "    t_min = 0.25*t_0\n",
    "\n",
    "    a_max = 3*a_0\n",
    "    a_min = 0.25*a_0\n",
    "\n",
    "    cr_max = 1.5*cr_0\n",
    "    cr_min = 0.75*cr_0\n",
    "\n",
    "    cb_max = 1.5*cb_0\n",
    "    cb_min = 0.75*cb_0\n",
    "\n",
    "    ct_max = 1.5*ct_0\n",
    "    ct_min = 0.75*ct_0\n",
    "\n",
    "    sweep_max = 50.\n",
    "    sweep_min = 30.\n",
    "\n",
    "    b_max = 80.\n",
    "    b_min = 40.\n",
    "\n",
    "    alpha_max = 5.\n",
    "    alpha_min = -2."
   ]
  },
  {
   "cell_type": "code",
   "execution_count": 11,
   "metadata": {},
   "outputs": [],
   "source": [
    "    #Coordinates of aerodynamic and structure matching meshes\n",
    "    xa_b = aero_problem_params.apoints_coord_unique\n",
    "    xa_b_h = aero_problem_params_h.apoints_coord_unique\n",
    "    xs_b = structure_problem_params.node_coord_all"
   ]
  },
  {
   "cell_type": "code",
   "execution_count": 12,
   "metadata": {},
   "outputs": [
    {
     "data": {
      "text/plain": [
       "<openmdao.components.indep_var_comp.IndepVarComp at 0x23c8583ee80>"
      ]
     },
     "execution_count": 12,
     "metadata": {},
     "output_type": "execute_result"
    }
   ],
   "source": [
    "    top = Problem()\n",
    "    top.root = root = Group()\n",
    "\n",
    "    #Add independent variables (parameters)\n",
    "    root.add('wing_area', IndepVarComp('Sw', Sw), promotes=['*'])\n",
    "    root.add('Airspeed', IndepVarComp('V', V), promotes=['*'])\n",
    "    root.add('air_density', IndepVarComp('rho_a', rho_a), promotes=['*'])\n",
    "    root.add('Mach_number', IndepVarComp('Mach', Mach))\n",
    "                                                                             \n",
    "    root.add('baseline_wing_span', IndepVarComp('b_baseline', b_baseline), promotes=['*'])\n",
    "    root.add('wing_chord', IndepVarComp('c', c))\n",
    "    root.add('Youngs_modulus', IndepVarComp('E', E))\n",
    "    root.add('Poissons_ratio', IndepVarComp('nu', nu))\n",
    "    root.add('material_density', IndepVarComp('rho_s', rho_s))\n",
    "    root.add('airframe_mass', IndepVarComp('W_airframe', W_airframe), promotes=['*'])\n",
    "    root.add('Tensile_Yield_Strength', IndepVarComp('sigma_y', sigma_y), promotes=['*'])\n",
    "    root.add('factor_safety', IndepVarComp('FS', FS), promotes=['*'])\n",
    "    root.add('y_leading_edge_baseline', IndepVarComp('y_le_baseline', y_le_baseline), promotes=['*'])\n",
    "    root.add('z_leading_edge', IndepVarComp('z_le', z_le), promotes=['*'])\n",
    "    \n",
    "    root.add('airfoil_thickness', IndepVarComp('th', th), promotes=['*'])\n",
    "    root.add('camber_chord_ratio', IndepVarComp('camc', camc), promotes=['*'])\n",
    "    root.add('base_aerodynamic_mesh', IndepVarComp('xa_b', xa_b))\n",
    "    root.add('base_aerodynamic_mesh_h', IndepVarComp('xa_b', xa_b_h))\n",
    "    root.add('base_structure_mesh', IndepVarComp('xs_b', xs_b), promotes=['*'])\n",
    "    root.add('cruise_load_factor', IndepVarComp('n', n), promotes=['*'])\n",
    "    root.add('root_leading_edge_x', IndepVarComp('xr', xr), promotes=['*'])\n",
    "    root.add('wing_twist', IndepVarComp('theta', theta), promotes=['*'])"
   ]
  },
  {
   "cell_type": "code",
   "execution_count": 13,
   "metadata": {},
   "outputs": [
    {
     "data": {
      "text/plain": [
       "<openmdao.components.indep_var_comp.IndepVarComp at 0x23c8586d0b8>"
      ]
     },
     "execution_count": 13,
     "metadata": {},
     "output_type": "execute_result"
    }
   ],
   "source": [
    "    # Independent variables that are optimization design variables\n",
    "    root.add('thicknesses', IndepVarComp('t', t_0), promotes=['*'])\n",
    "    root.add('rod_sections', IndepVarComp('a', a_0), promotes=['*'])\n",
    "    root.add('root_chord', IndepVarComp('cr', cr_0), promotes=['*'])\n",
    "    root.add('break_chord', IndepVarComp('cb', cb_0), promotes=['*'])\n",
    "    root.add('tip_chord', IndepVarComp('ct', ct_0), promotes=['*'])\n",
    "    root.add('sweep_angle', IndepVarComp('sweep', sweep_0), promotes=['*'])\n",
    "    root.add('wing_span', IndepVarComp('b', b_0), promotes=['*'])\n",
    "    root.add('angle_of_attack', IndepVarComp('alpha', alpha_0), promotes=['*'])"
   ]
  },
  {
   "cell_type": "code",
   "execution_count": 14,
   "metadata": {},
   "outputs": [
    {
     "data": {
      "text/plain": [
       "<aerostructures.data_transfer.interpolation.Interpolation at 0x23c857fd588>"
      ]
     },
     "execution_count": 14,
     "metadata": {},
     "output_type": "execute_result"
    }
   ],
   "source": [
    "    #Interpolation Components\n",
    "    root.add('interp_struct_morph', Interpolation(ns_all, na_unique_h, function = function_type, bias = bias_morph))"
   ]
  },
  {
   "cell_type": "code",
   "execution_count": 15,
   "metadata": {},
   "outputs": [
    {
     "data": {
      "text/plain": [
       "<aerostructures.geometry.structure_mesher.StructureMesher at 0x23c85889550>"
      ]
     },
     "execution_count": 15,
     "metadata": {},
     "output_type": "execute_result"
    }
   ],
   "source": [
    "    #Geometry and meshing Components\n",
    "    root.add('planform_geometry', PlanformGeometry(n_sec, b_sec), promotes=['*'])\n",
    "    root.add('aerodynamic_mesher_h', PanairMesher(n_sec, na_h, na_unique_h, network_info_h, ref_airfoil_file), promotes=['camc','chords','tc','theta','x_le','y_le','z_le','apoints_coord','apoints_coord_unique'])\n",
    "    root.add('aerodynamic_mesher', PanairMesher(n_sec, na, na_unique, network_info, ref_airfoil_file), promotes=['camc','chords','tc','theta','x_le','y_le','z_le'])\n",
    "    \n",
    "    root.add('structure_mesher', StructureMesher(na_unique_h, node_id, node_id_all), promotes=['*'])"
   ]
  },
  {
   "cell_type": "code",
   "execution_count": 16,
   "metadata": {},
   "outputs": [
    {
     "data": {
      "text/plain": [
       "<openmdao.components.exec_comp.ExecComp at 0x23c85889048>"
      ]
     },
     "execution_count": 16,
     "metadata": {},
     "output_type": "execute_result"
    }
   ],
   "source": [
    "    root.add('y_leading_edge', ExecComp(\n",
    "        'y_le = b/b_baseline*y_le_baseline', y_le=np.zeros(len(y_le_baseline), dtype=float), y_le_baseline=np.zeros(len(y_le_baseline), dtype=float)), promotes=['*'])\n",
    "\n",
    "    root.add('tc_ratio', ExecComp(\n",
    "        'tc = th/chords', tc=np.zeros(n_sec, dtype=float), th=np.zeros(n_sec, dtype=float), chords=np.zeros(n_sec, dtype=float)), promotes=['*'])"
   ]
  },
  {
   "cell_type": "markdown",
   "metadata": {},
   "source": [
    "Two MDA groups are created, with the Hi-Fi one including a Filter component that allows the program to shift from one group to the next when the tolerance conditions are met."
   ]
  },
  {
   "cell_type": "code",
   "execution_count": 17,
   "metadata": {},
   "outputs": [
    {
     "data": {
      "text/plain": [
       "<aerostructures.data_transfer.displacement_transfer.DisplacementTransfer at 0x23c85beb828>"
      ]
     },
     "execution_count": 17,
     "metadata": {},
     "output_type": "execute_result"
    }
   ],
   "source": [
    "    #Aeroelastic MDA components\n",
    "    mda = Group()\n",
    "\n",
    "    #Add disciplines to the group\n",
    "    mda.add('aerodynamics', Panair(na, network_info, 'alpha', sym_plane_index), promotes=['*'])\n",
    "    mda.add('load_transfer', LoadTransfer(na, ns), promotes=['*'])\n",
    "    mda.add('structures', NastranStatic(node_id, node_id_all, n_stress, tn, mn, sn, 'alpha', an=an), promotes=['*'])\n",
    "    mda.add('displacement_transfer', DisplacementTransfer(na, ns), promotes=['*'])"
   ]
  },
  {
   "cell_type": "code",
   "execution_count": 18,
   "metadata": {},
   "outputs": [],
   "source": [
    "    #Aeroelastic MDA components\n",
    "       \n",
    "    #Lo-Fi Group\n",
    "    mda_l = Group()\n",
    "\n",
    "    #Add disciplines to the low fidelity group \n",
    "    mda_l.add('displacement_transfer', DisplacementTransfer(na, ns)) \n",
    "    mda_l.add('aerodynamics', Panair(na, network_info, case_name, aero_template_l, sym_plane_index=sym_plane_index), promotes=['V','Sw','alpha','rho_a']) \n",
    "    mda_l.add('load_transfer', LoadTransfer(na, ns))\n",
    "    mda_l.add('structures', NastranStatic(node_id, node_id_all, n_stress, tn, mn, sn, case_name, an=an), promotes=['n','m','t','s','Ix','Iy','a'])\n",
    "    \n",
    "    #Inner interpolation methods \n",
    "    mda_l.add('inter', Interpolation(na, ns, function = function_type, bias = bias_inter), promotes=['node_coord'])\n",
    "    \n",
    "    #Hi-Fi Group\n",
    "    mda_h = Group()\n",
    "    \n",
    "    #Add disciplines to the high-fidelity group \n",
    "    mda_h.add('mult_filter_h', Filter(ns, fidelity))\n",
    "    mda_h.add('displacement_transfer_h', DisplacementTransfer(na_h, ns))\n",
    "    mda_h.add('aerodynamics_h', Panair(na_h, network_info_h, case_name_h, aero_template_h, sym_plane_index=sym_plane_index), promotes=['V','Sw','alpha','rho_a','CL','CDi','apoints_coord'])    \n",
    "    mda_h.add('load_transfer_h', LoadTransfer(na_h, ns))\n",
    "    mda_h.add('structures_h', NastranStatic(node_id, node_id_all, n_stress, tn, mn, sn, case_name_h, an=an), promotes=['mass','VMStress','n','m','t','s','Ix','Iy','node_coord_all','a'])\n",
    "    \n",
    "    #Inner interpolation method\n",
    "    mda_h.add('inter_h', Interpolation(na_h, ns, function = function_type, bias = bias_inter), promotes=['apoints_coord','node_coord'])\n",
    "    \n",
    "    #Define solver type and tolerance for MDA Lo-Fi\n",
    "    mda_l.nl_solver = NLGaussSeidel()\n",
    "    #The solver execution limit is used to control fidelity levels\n",
    "    if fidelity == 'high':\n",
    "        mda_l.nl_solver.options['maxiter'] = 0 #No Lo-Fi iterations\n",
    "             \n",
    "    mda_l.nl_solver.options['rutol'] = 1.e-2 \n",
    "    mda_l.nl_solver.options['use_aitken'] = True\n",
    "    mda_l.nl_solver.options['aitken_alpha_min'] = 0.1\n",
    "    mda_l.nl_solver.options['aitken_alpha_max'] = 1.5\n",
    "\n",
    "    mda_l.ln_solver = ScipyGMRES()\n",
    "    \n",
    "    #Define solver type and tolerance for MDA Hi-Fi\n",
    "    mda_h.nl_solver = NLGaussSeidel()\n",
    "    #The solver execution limit is used to control fidelity levels\n",
    "    if fidelity == 'low':\n",
    "        mda_h.nl_solver.options['maxiter'] = 0\n",
    "        \n",
    "    mda_h.nl_solver.options['rutol'] = 1.e-3\n",
    "    mda_h.nl_solver.options['use_aitken'] = True\n",
    "    mda_h.nl_solver.options['aitken_alpha_min'] = 0.1\n",
    "    mda_h.nl_solver.options['aitken_alpha_max'] = 1.5\n",
    "\n",
    "    mda_h.ln_solver = ScipyGMRES()\n"
   ]
  },
  {
   "cell_type": "markdown",
   "metadata": {},
   "source": [
    "Since there are many variables of the problem that cannot be promoted directly, explicit connections have to be made:"
   ]
  },
  {
   "cell_type": "code",
   "execution_count": 20,
   "metadata": {},
   "outputs": [],
   "source": [
    "    root.add('mda_group_l', mda_l, promotes = ['*'])\n",
    "    \n",
    "    #Explicit connection Lo-Fi\n",
    "    root.mda_group_l.connect('displacement_transfer.delta','aerodynamics.delta')\n",
    "    root.mda_group_l.connect('inter.H','displacement_transfer.H')\n",
    "    root.mda_group_l.connect('structures.u','displacement_transfer.u')\n",
    "    root.mda_group_l.connect('aerodynamics.f_a','load_transfer.f_a')\n",
    "    root.mda_group_l.connect('load_transfer.f_node','structures.f_node')\n",
    "    root.mda_group_l.connect('inter.H','load_transfer.H')\n",
    "    root.mda_group_l.connect('aerodynamics.apoints_coord','inter.apoints_coord')\n",
    "    root.connect('aerodynamic_mesher.apoints_coord', 'aerodynamics.apoints_coord')\n",
    "    root.connect('aerodynamic_mesher.apoints_coord','inter.apoints_coord')\n",
    "    #Connect Indep Variables\n",
    "    root.connect('Mach_number.Mach', 'aerodynamics.Mach')\n",
    "    root.connect('b_baseline', 'aerodynamics.b')\n",
    "    root.connect('wing_chord.c', 'aerodynamics.c')\n",
    "    root.connect('Poissons_ratio.nu', 'structures.nu')\n",
    "    root.connect('Youngs_modulus.E', 'structures.E')\n",
    "    root.connect('material_density.rho_s', 'structures.rho_s')\n",
    "    root.connect('xs_b', 'structures.node_coord_all')\n",
    "    \n",
    "    root.add('mda_group_h', mda_h, promotes=['*'])\n",
    "    \n",
    "    #Explicit connection Hi-Fi\n",
    "    root.mda_group_h.connect('displacement_transfer_h.delta','aerodynamics_h.delta')\n",
    "    root.mda_group_h.connect('inter_h.H','displacement_transfer_h.H')\n",
    "    root.mda_group_h.connect('mult_filter_h.us','displacement_transfer_h.u')\n",
    "    root.mda_group_h.connect('aerodynamics_h.f_a','load_transfer_h.f_a')\n",
    "    root.mda_group_h.connect('load_transfer_h.f_node','structures_h.f_node')\n",
    "    root.mda_group_h.connect('inter_h.H','load_transfer_h.H')\n",
    "    root.mda_group_h.connect('structures_h.u','mult_filter_h.u')\n",
    "    #Connect Indep Variables\n",
    "    root.connect('Mach_number.Mach', 'aerodynamics_h.Mach')\n",
    "    root.connect('b_baseline', 'aerodynamics_h.b')\n",
    "    root.connect('wing_chord.c', 'aerodynamics_h.c')\n",
    "    root.connect('Poissons_ratio.nu', 'structures_h.nu')\n",
    "    root.connect('Youngs_modulus.E', 'structures_h.E')\n",
    "    root.connect('material_density.rho_s', 'structures_h.rho_s')\n",
    "        \n",
    "    #Multifidelity explicit connections\n",
    "    \n",
    "    root.connect('structures.u', 'mult_filter_h.ul')\n",
    "    \n",
    "    #Recorder Lo-Fi (recorders are optional to check performances after)\n",
    "    recorder_l = SqliteRecorder('mda_l.sqlite3')\n",
    "    recorder_l.options['record_metadata'] = False\n",
    "    #Recorder Hi-Fi\n",
    "    recorder_h = SqliteRecorder('mda_h.sqlite3')\n",
    "    recorder_h.options['record_metadata'] = False\n",
    "    # recorder.options['includes'] =\n",
    "    top.root.mda_group_l.nl_solver.add_recorder(recorder_l)\n",
    "    top.root.mda_group_h.nl_solver.add_recorder(recorder_h)"
   ]
  },
  {
   "cell_type": "code",
   "execution_count": null,
   "metadata": {},
   "outputs": [],
   "source": [
    "    #Constraint components\n",
    "    #Lift coefficient constraints (two constraints with same value to treat equality constraint as two inequality constraints)\n",
    "    root.add('con_lift_cruise_upper', ExecComp(\n",
    "        'con_l_u = CL - n*(W_airframe+2*1.25*mass)*9.81/(0.5*rho_a*V**2*Sw)'), promotes=['*'])\n",
    "    root.add('con_lift_cruise_lower', ExecComp(\n",
    "        'con_l_l = CL - n*(W_airframe+2*1.25*mass)*9.81/(0.5*rho_a*V**2*Sw)'), promotes=['*'])"
   ]
  },
  {
   "cell_type": "code",
   "execution_count": null,
   "metadata": {},
   "outputs": [],
   "source": [
    "    #Maximum stress constraint (considering factor of safety)\n",
    "    root.add('con_stress', ExecComp('con_s = FS*2.5*max(VMStress) - sigma_y', VMStress=np.zeros(n_stress,dtype=float)), promotes=['*'])"
   ]
  },
  {
   "cell_type": "code",
   "execution_count": null,
   "metadata": {},
   "outputs": [],
   "source": [
    "    #Stress constraints (considering max load factor and factor of safety)\n",
    "    for i in range(n_stress):\n",
    "        root.add('con_stress_'+str(i+1), ExecComp('con_s_'+str(i+1)+' = FS*2.5*VMStress['+str(\n",
    "            i)+'] - sigma_y', VMStress=np.zeros(n_stress, dtype=float)), promotes=['*'])"
   ]
  },
  {
   "cell_type": "code",
   "execution_count": null,
   "metadata": {},
   "outputs": [],
   "source": [
    "    #Add design variable bounds as constraints (COBYLA does not support design variable bounds)\n",
    "    for i in range(tn):\n",
    "        root.add('t_lower_bound_'+str(i+1), ExecComp('t_l_'+str(i+1) +\n",
    "                                                     ' = t['+str(i)+']', t=np.zeros(tn, dtype=float)), promotes=['*'])\n",
    "        root.add('t_upper_bound_'+str(i+1), ExecComp('t_u_'+str(i+1) +\n",
    "                                                     ' = t['+str(i)+']', t=np.zeros(tn, dtype=float)), promotes=['*'])\n",
    "    for i in range(an):\n",
    "        root.add('a_lower_bound_'+str(i+1), ExecComp('a_l_'+str(i+1) +\n",
    "                                                     ' = a['+str(i)+']', a=np.zeros(an, dtype=float)), promotes=['*'])\n",
    "        root.add('a_upper_bound_'+str(i+1), ExecComp('a_u_'+str(i+1) +\n",
    "                                                     ' = a['+str(i)+']', a=np.zeros(an, dtype=float)), promotes=['*'])"
   ]
  },
  {
   "cell_type": "code",
   "execution_count": null,
   "metadata": {},
   "outputs": [],
   "source": [
    "    root.add('cr_lower_bound', ExecComp('cr_l = cr'), promotes=['*'])\n",
    "    root.add('cr_upper_bound', ExecComp('cr_u = cr'), promotes=['*'])\n",
    "\n",
    "    root.add('cb_lower_bound', ExecComp('cb_l = cb'), promotes=['*'])\n",
    "    root.add('cb_upper_bound', ExecComp('cb_u = cb'), promotes=['*'])\n",
    "\n",
    "    root.add('ct_lower_bound', ExecComp('ct_l = ct'), promotes=['*'])\n",
    "    root.add('ct_upper_bound', ExecComp('ct_u = ct'), promotes=['*'])\n",
    "\n",
    "    root.add('sweep_lower_bound', ExecComp('sweep_l = sweep'), promotes=['*'])\n",
    "    root.add('sweep_upper_bound', ExecComp('sweep_u = sweep'), promotes=['*'])\n",
    "\n",
    "    root.add('b_lower_bound', ExecComp('b_l = b'), promotes=['*'])\n",
    "    root.add('b_upper_bound', ExecComp('b_u = b'), promotes=['*'])\n",
    "\n",
    "    root.add('alpha_lower_bound', ExecComp('alpha_l = alpha'), promotes=['*'])\n",
    "    root.add('alpha_upper_bound', ExecComp('alpha_u = alpha'), promotes=['*'])"
   ]
  },
  {
   "cell_type": "markdown",
   "metadata": {},
   "source": [
    "The optimizer has to be connected to the Hi-Fi component, which is the one that has the final result of both MDA groups:"
   ]
  },
  {
   "cell_type": "code",
   "execution_count": null,
   "metadata": {},
   "outputs": [],
   "source": [
    "    #Explicit connections\n",
    "    root.connect('interp_struct_morph.H', 'G')\n",
    "    root.connect('base_aerodynamic_mesh_h.xa_b', 'interp_struct_morph.node_coord')\n",
    "    root.connect('xs_b', 'interp_struct_morph.apoints_coord')"
   ]
  },
  {
   "cell_type": "code",
   "execution_count": null,
   "metadata": {},
   "outputs": [],
   "source": [
    "    #Define the optimizer (Scipy)\n",
    "    top.driver = ScipyOptimizer()\n",
    "    top.driver.options['optimizer'] = 'COBYLA'\n",
    "    top.driver.options['disp'] = True\n",
    "    top.driver.options['tol'] = 1.e-3\n",
    "    top.driver.options['maxiter'] = 500\n",
    "    top.driver.opt_settings['rhobeg'] = 0.4"
   ]
  },
  {
   "cell_type": "code",
   "execution_count": null,
   "metadata": {},
   "outputs": [],
   "source": [
    "    top.driver.add_desvar('t', lower=t_min, upper=t_max,\n",
    "                          adder=-t_min, scaler=1./(t_max-t_min))\n",
    "    top.driver.add_desvar('a', lower=a_min, upper=a_max,\n",
    "                          adder=-a_min, scaler=1./(a_max-a_min))\n",
    "    top.driver.add_desvar('cr', lower=cr_min, upper=cr_max,\n",
    "                          adder=-cr_min, scaler=1./(cr_max-cr_min))\n",
    "    top.driver.add_desvar('cb', lower=cb_min, upper=cb_max,\n",
    "                          adder=-cb_min, scaler=1./(cb_max-cb_min))\n",
    "    top.driver.add_desvar('ct', lower=ct_min, upper=ct_max,\n",
    "                          adder=-ct_min, scaler=1./(ct_max-ct_min))\n",
    "    top.driver.add_desvar('sweep', lower=sweep_min, upper=sweep_max,\n",
    "                          adder=-sweep_min, scaler=1./(sweep_max-sweep_min))\n",
    "    top.driver.add_desvar('b', lower=b_min, upper=b_max,\n",
    "                          adder=-b_min, scaler=1./(b_max-b_min))\n",
    "    top.driver.add_desvar('alpha', lower=alpha_min, upper=alpha_max,\n",
    "                          adder=-alpha_min, scaler=1./(alpha_max-alpha_min))"
   ]
  },
  {
   "cell_type": "code",
   "execution_count": null,
   "metadata": {},
   "outputs": [],
   "source": [
    "    top.driver.add_objective('CDi')"
   ]
  },
  {
   "cell_type": "code",
   "execution_count": null,
   "metadata": {},
   "outputs": [],
   "source": [
    "    for i in range(n_stress):\n",
    "        top.driver.add_constraint('con_s_'+str(i+1), upper=0., scaler=1./sigma_y)"
   ]
  },
  {
   "cell_type": "code",
   "execution_count": null,
   "metadata": {},
   "outputs": [],
   "source": [
    "    top.driver.add_constraint(\n",
    "        'con_l_u', upper=0., scaler=1./(n*W_ref*9.81/(0.5*rho_a*V**2*Sw)))\n",
    "    top.driver.add_constraint(\n",
    "        'con_l_l', lower=0., scaler=1./(n*W_ref*9.81/(0.5*rho_a*V**2*Sw)))"
   ]
  },
  {
   "cell_type": "code",
   "execution_count": null,
   "metadata": {},
   "outputs": [],
   "source": [
    "    #Add design variable bounds constraints to the driver\n",
    "    for i in range(tn):\n",
    "        top.driver.add_constraint('t_l_'+str(i+1), lower=t_min[i], scaler=1./t_0[i])\n",
    "        top.driver.add_constraint('t_u_'+str(i+1), upper=t_max[i], scaler=1./t_0[i])\n",
    "\n",
    "    for i in range(an):\n",
    "        top.driver.add_constraint('a_l_'+str(i+1), lower=a_min[i], scaler=1./a_0[i])\n",
    "        top.driver.add_constraint('a_u_'+str(i+1), upper=a_max[i], scaler=1./a_0[i])"
   ]
  },
  {
   "cell_type": "code",
   "execution_count": null,
   "metadata": {},
   "outputs": [],
   "source": [
    "    top.driver.add_constraint('cr_l', lower=cr_min, scaler=1./cr_0)\n",
    "    top.driver.add_constraint('cr_u', upper=cr_max, scaler=1./cr_0)\n",
    "\n",
    "    top.driver.add_constraint('cb_l', lower=cb_min, scaler=1./cb_0)\n",
    "    top.driver.add_constraint('cb_u', upper=cb_max, scaler=1./cb_0)\n",
    "\n",
    "    top.driver.add_constraint('ct_l', lower=ct_min, scaler=1./ct_0)\n",
    "    top.driver.add_constraint('ct_u', upper=ct_max, scaler=1./ct_0)\n",
    "\n",
    "    top.driver.add_constraint('sweep_l', lower=sweep_min, scaler=1./sweep_0)\n",
    "    top.driver.add_constraint('sweep_u', upper=sweep_max, scaler=1./sweep_0)\n",
    "\n",
    "    top.driver.add_constraint('b_l', lower=b_min, scaler=1./b_0)\n",
    "    top.driver.add_constraint('b_u', upper=b_max, scaler=1./b_0)\n",
    "\n",
    "    top.driver.add_constraint('alpha_l', lower=alpha_min, scaler=1./alpha_0)\n",
    "    top.driver.add_constraint('alpha_u', upper=alpha_max, scaler=1./alpha_0)"
   ]
  },
  {
   "cell_type": "code",
   "execution_count": null,
   "metadata": {},
   "outputs": [],
   "source": [
    "    recorder = SqliteRecorder('mdao.sqlite3')\n",
    "    recorder.options['record_metadata'] = False\n",
    "    recorder.options['includes'] = ['CDi', 'con_l_u', 'con_s', 't', 'a', 'cr',\n",
    "                                    'cb', 'ct', 'sweep', 'b', 'alpha']\n",
    "    \n",
    "    top.driver.add_recorder(recorder)"
   ]
  },
  {
   "cell_type": "code",
   "execution_count": null,
   "metadata": {},
   "outputs": [],
   "source": [
    "    #Define solver type\n",
    "    root.ln_solver = ScipyGMRES()\n",
    "\n",
    "    start1 = time.time()\n",
    "    top.setup()\n",
    "    end1 = time.time()\n",
    "    view_model(top, show_browser=False) #Change to True to see N2 diagram"
   ]
  },
  {
   "cell_type": "code",
   "execution_count": null,
   "metadata": {},
   "outputs": [],
   "source": [
    "    #Setting initial values for design variables\n",
    "    top['t'] = t_0\n",
    "    top['a'] = a_0\n",
    "    top['cr'] = cr_0\n",
    "    top['cb'] = cb_0\n",
    "    top['ct'] = ct_0\n",
    "    top['sweep'] = sweep_0\n",
    "    top['b'] = b_0\n",
    "    top['alpha'] = alpha_0"
   ]
  },
  {
   "cell_type": "code",
   "execution_count": null,
   "metadata": {},
   "outputs": [],
   "source": [
    "    start2 = time.time()\n",
    "    top.run()\n",
    "    end2 = time.time()\n",
    "    top.cleanup()  # this closes all recorders\n",
    "    print(\"Set up time = \" + str(end1 - start1))\n",
    "    print(\"Run time = \" + str(end2 - start2))"
   ]
  },
  {
   "cell_type": "markdown",
   "metadata": {},
   "source": [
    "## Postprocessing"
   ]
  },
  {
   "cell_type": "code",
   "execution_count": null,
   "metadata": {},
   "outputs": [],
   "source": [
    "%run wgs_to_gmsh.py"
   ]
  },
  {
   "cell_type": "code",
   "execution_count": null,
   "metadata": {},
   "outputs": [],
   "source": [
    "%run panair_post.py"
   ]
  },
  {
   "cell_type": "code",
   "execution_count": null,
   "metadata": {},
   "outputs": [],
   "source": [
    "%run optim_plot_mdao_multifidelity.py"
   ]
  },
  {
   "cell_type": "code",
   "execution_count": null,
   "metadata": {},
   "outputs": [],
   "source": [
    "%run nastran_static_postproc.py"
   ]
  }
 ],
 "metadata": {
  "kernelspec": {
   "display_name": "Python 3",
   "language": "python",
   "name": "python3"
  },
  "language_info": {
   "codemirror_mode": {
    "name": "ipython",
    "version": 3
   },
   "file_extension": ".py",
   "mimetype": "text/x-python",
   "name": "python",
   "nbconvert_exporter": "python",
   "pygments_lexer": "ipython3",
   "version": "3.7.1"
  }
 },
 "nbformat": 4,
 "nbformat_minor": 2
}
